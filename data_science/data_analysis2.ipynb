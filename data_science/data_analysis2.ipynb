{
 "cells": [
  {
   "cell_type": "code",
   "execution_count": 1,
   "metadata": {},
   "outputs": [],
   "source": [
    "import pandas as pd\n",
    "import numpy as np\n",
    "import matplotlib.pyplot as plt\n",
    "import os"
   ]
  },
  {
   "cell_type": "code",
   "execution_count": 2,
   "metadata": {},
   "outputs": [
    {
     "name": "stdout",
     "output_type": "stream",
     "text": [
      "<class 'pandas.core.frame.DataFrame'>\n",
      "RangeIndex: 528 entries, 0 to 527\n",
      "Data columns (total 4 columns):\n",
      " #   Column      Non-Null Count  Dtype \n",
      "---  ------      --------------  ----- \n",
      " 0   Unnamed: 0  528 non-null    int64 \n",
      " 1   title       528 non-null    object\n",
      " 2   price       528 non-null    object\n",
      " 3   link        528 non-null    object\n",
      "dtypes: int64(1), object(3)\n",
      "memory usage: 16.6+ KB\n",
      "None\n"
     ]
    }
   ],
   "source": [
    "filepath = 'laptop_data.csv'\n",
    "if not os.path.exists(filepath):\n",
    "    print('file not found')\n",
    "else:\n",
    "    df = pd.read_csv(filepath)\n",
    "    print(df.info())\n"
   ]
  },
  {
   "cell_type": "code",
   "execution_count": 4,
   "metadata": {},
   "outputs": [
    {
     "data": {
      "text/html": [
       "<div>\n",
       "<style scoped>\n",
       "    .dataframe tbody tr th:only-of-type {\n",
       "        vertical-align: middle;\n",
       "    }\n",
       "\n",
       "    .dataframe tbody tr th {\n",
       "        vertical-align: top;\n",
       "    }\n",
       "\n",
       "    .dataframe thead th {\n",
       "        text-align: right;\n",
       "    }\n",
       "</style>\n",
       "<table border=\"1\" class=\"dataframe\">\n",
       "  <thead>\n",
       "    <tr style=\"text-align: right;\">\n",
       "      <th></th>\n",
       "      <th>Unnamed: 0</th>\n",
       "      <th>title</th>\n",
       "      <th>price</th>\n",
       "      <th>link</th>\n",
       "    </tr>\n",
       "  </thead>\n",
       "  <tbody>\n",
       "    <tr>\n",
       "      <th>27</th>\n",
       "      <td>27</td>\n",
       "      <td>MSI Core i9 12th Gen - (32 GB/2 TB SSD/Windows...</td>\n",
       "      <td>₹3,90,990</td>\n",
       "      <td>/msi-core-i9-12th-gen-32-gb-2-tb-ssd-windows-1...</td>\n",
       "    </tr>\n",
       "    <tr>\n",
       "      <th>31</th>\n",
       "      <td>31</td>\n",
       "      <td>MSI Modern 14 Core i5 10th Gen - (8 GB/512 GB ...</td>\n",
       "      <td>₹41,990</td>\n",
       "      <td>/msi-modern-14-core-i5-10th-gen-8-gb-512-gb-ss...</td>\n",
       "    </tr>\n",
       "    <tr>\n",
       "      <th>39</th>\n",
       "      <td>39</td>\n",
       "      <td>MSI Bravo 15 Ryzen 5 Hexa Core 5600H - (8 GB/5...</td>\n",
       "      <td>₹49,990</td>\n",
       "      <td>/msi-bravo-15-ryzen-5-hexa-core-5600h-8-gb-512...</td>\n",
       "    </tr>\n",
       "    <tr>\n",
       "      <th>43</th>\n",
       "      <td>43</td>\n",
       "      <td>Lenovo Ideapad Gaming 3 Ryzen 5 Hexa Core 5600...</td>\n",
       "      <td>₹59,990</td>\n",
       "      <td>/lenovo-ideapad-gaming-3-ryzen-5-hexa-core-560...</td>\n",
       "    </tr>\n",
       "    <tr>\n",
       "      <th>47</th>\n",
       "      <td>47</td>\n",
       "      <td>MSI Crosshair 15 Core i7 12th Gen - (16 GB/1 T...</td>\n",
       "      <td>₹1,16,990</td>\n",
       "      <td>/msi-crosshair-15-core-i7-12th-gen-16-gb-1-tb-...</td>\n",
       "    </tr>\n",
       "    <tr>\n",
       "      <th>...</th>\n",
       "      <td>...</td>\n",
       "      <td>...</td>\n",
       "      <td>...</td>\n",
       "      <td>...</td>\n",
       "    </tr>\n",
       "    <tr>\n",
       "      <th>516</th>\n",
       "      <td>516</td>\n",
       "      <td>ASUS Vivobook Pro 15 OLED Ryzen 7 Octa Core 48...</td>\n",
       "      <td>₹67,990</td>\n",
       "      <td>/asus-vivobook-pro-15-oled-ryzen-7-octa-core-4...</td>\n",
       "    </tr>\n",
       "    <tr>\n",
       "      <th>519</th>\n",
       "      <td>519</td>\n",
       "      <td>MSI Bravo 15 Ryzen 5 Hexa Core 5600H - (8 GB/5...</td>\n",
       "      <td>₹49,990</td>\n",
       "      <td>/msi-bravo-15-ryzen-5-hexa-core-5600h-8-gb-512...</td>\n",
       "    </tr>\n",
       "    <tr>\n",
       "      <th>523</th>\n",
       "      <td>523</td>\n",
       "      <td>Lenovo Ideapad Gaming 3 Ryzen 5 Hexa Core 5600...</td>\n",
       "      <td>₹59,990</td>\n",
       "      <td>/lenovo-ideapad-gaming-3-ryzen-5-hexa-core-560...</td>\n",
       "    </tr>\n",
       "    <tr>\n",
       "      <th>526</th>\n",
       "      <td>526</td>\n",
       "      <td>ASUS ROG Zephyrus G15 (2022) with 90Whr Batter...</td>\n",
       "      <td>₹2,07,990</td>\n",
       "      <td>/asus-rog-zephyrus-g15-2022-90whr-battery-ryze...</td>\n",
       "    </tr>\n",
       "    <tr>\n",
       "      <th>527</th>\n",
       "      <td>527</td>\n",
       "      <td>MSI Crosshair 15 Core i7 12th Gen - (16 GB/1 T...</td>\n",
       "      <td>₹1,16,990</td>\n",
       "      <td>/msi-crosshair-15-core-i7-12th-gen-16-gb-1-tb-...</td>\n",
       "    </tr>\n",
       "  </tbody>\n",
       "</table>\n",
       "<p>158 rows × 4 columns</p>\n",
       "</div>"
      ],
      "text/plain": [
       "     Unnamed: 0                                              title      price  \\\n",
       "27           27  MSI Core i9 12th Gen - (32 GB/2 TB SSD/Windows...  ₹3,90,990   \n",
       "31           31  MSI Modern 14 Core i5 10th Gen - (8 GB/512 GB ...    ₹41,990   \n",
       "39           39  MSI Bravo 15 Ryzen 5 Hexa Core 5600H - (8 GB/5...    ₹49,990   \n",
       "43           43  Lenovo Ideapad Gaming 3 Ryzen 5 Hexa Core 5600...    ₹59,990   \n",
       "47           47  MSI Crosshair 15 Core i7 12th Gen - (16 GB/1 T...  ₹1,16,990   \n",
       "..          ...                                                ...        ...   \n",
       "516         516  ASUS Vivobook Pro 15 OLED Ryzen 7 Octa Core 48...    ₹67,990   \n",
       "519         519  MSI Bravo 15 Ryzen 5 Hexa Core 5600H - (8 GB/5...    ₹49,990   \n",
       "523         523  Lenovo Ideapad Gaming 3 Ryzen 5 Hexa Core 5600...    ₹59,990   \n",
       "526         526  ASUS ROG Zephyrus G15 (2022) with 90Whr Batter...  ₹2,07,990   \n",
       "527         527  MSI Crosshair 15 Core i7 12th Gen - (16 GB/1 T...  ₹1,16,990   \n",
       "\n",
       "                                                  link  \n",
       "27   /msi-core-i9-12th-gen-32-gb-2-tb-ssd-windows-1...  \n",
       "31   /msi-modern-14-core-i5-10th-gen-8-gb-512-gb-ss...  \n",
       "39   /msi-bravo-15-ryzen-5-hexa-core-5600h-8-gb-512...  \n",
       "43   /lenovo-ideapad-gaming-3-ryzen-5-hexa-core-560...  \n",
       "47   /msi-crosshair-15-core-i7-12th-gen-16-gb-1-tb-...  \n",
       "..                                                 ...  \n",
       "516  /asus-vivobook-pro-15-oled-ryzen-7-octa-core-4...  \n",
       "519  /msi-bravo-15-ryzen-5-hexa-core-5600h-8-gb-512...  \n",
       "523  /lenovo-ideapad-gaming-3-ryzen-5-hexa-core-560...  \n",
       "526  /asus-rog-zephyrus-g15-2022-90whr-battery-ryze...  \n",
       "527  /msi-crosshair-15-core-i7-12th-gen-16-gb-1-tb-...  \n",
       "\n",
       "[158 rows x 4 columns]"
      ]
     },
     "execution_count": 4,
     "metadata": {},
     "output_type": "execute_result"
    }
   ],
   "source": [
    "df[df['title'].duplicated()]   # list all the duplicated titles"
   ]
  },
  {
   "cell_type": "code",
   "execution_count": 5,
   "metadata": {},
   "outputs": [],
   "source": [
    "# we have to clean price and make it a number"
   ]
  },
  {
   "cell_type": "markdown",
   "metadata": {},
   "source": [
    "'f(x) = x^2'\n",
    "'f"
   ]
  },
  {
   "cell_type": "code",
   "execution_count": 7,
   "metadata": {},
   "outputs": [
    {
     "name": "stdout",
     "output_type": "stream",
     "text": [
      "16\n",
      "11\n"
     ]
    }
   ],
   "source": [
    "f = lambda i : i *4\n",
    "print(f(4))\n",
    "g = lambda x,y : x + y ** 2\n",
    "print(g(2,3))"
   ]
  },
  {
   "cell_type": "code",
   "execution_count": 8,
   "metadata": {},
   "outputs": [],
   "source": [
    "#for col in df.iterrows:\n",
    "#    print(row)"
   ]
  },
  {
   "cell_type": "code",
   "execution_count": 16,
   "metadata": {},
   "outputs": [],
   "source": [
    "df['price_clean'] = df['price'].apply(lambda val: int(val[1:].replace(',','')))"
   ]
  },
  {
   "cell_type": "code",
   "execution_count": 15,
   "metadata": {},
   "outputs": [
    {
     "data": {
      "text/plain": [
       "390990"
      ]
     },
     "execution_count": 15,
     "metadata": {},
     "output_type": "execute_result"
    }
   ],
   "source": [
    "int('₹3,90,990'[1:].replace(',',''))"
   ]
  },
  {
   "cell_type": "code",
   "execution_count": 19,
   "metadata": {},
   "outputs": [],
   "source": [
    "df.sort_values(by='price_clean', ascending= False, inplace=True)"
   ]
  },
  {
   "cell_type": "code",
   "execution_count": 21,
   "metadata": {},
   "outputs": [
    {
     "data": {
      "text/html": [
       "<div>\n",
       "<style scoped>\n",
       "    .dataframe tbody tr th:only-of-type {\n",
       "        vertical-align: middle;\n",
       "    }\n",
       "\n",
       "    .dataframe tbody tr th {\n",
       "        vertical-align: top;\n",
       "    }\n",
       "\n",
       "    .dataframe thead th {\n",
       "        text-align: right;\n",
       "    }\n",
       "</style>\n",
       "<table border=\"1\" class=\"dataframe\">\n",
       "  <thead>\n",
       "    <tr style=\"text-align: right;\">\n",
       "      <th></th>\n",
       "      <th>Unnamed: 0</th>\n",
       "      <th>title</th>\n",
       "      <th>price</th>\n",
       "      <th>link</th>\n",
       "      <th>price_clean</th>\n",
       "    </tr>\n",
       "  </thead>\n",
       "  <tbody>\n",
       "    <tr>\n",
       "      <th>510</th>\n",
       "      <td>510</td>\n",
       "      <td>ASUS ROG Zephyrus Duo 16 Ryzen 9 Octa Core 690...</td>\n",
       "      <td>₹3,91,990</td>\n",
       "      <td>/asus-rog-zephyrus-duo-16-ryzen-9-octa-core-69...</td>\n",
       "      <td>391990</td>\n",
       "    </tr>\n",
       "    <tr>\n",
       "      <th>0</th>\n",
       "      <td>0</td>\n",
       "      <td>MSI Core i9 12th Gen - (32 GB/2 TB SSD/Windows...</td>\n",
       "      <td>₹3,90,990</td>\n",
       "      <td>/msi-core-i9-12th-gen-32-gb-2-tb-ssd-windows-1...</td>\n",
       "      <td>390990</td>\n",
       "    </tr>\n",
       "    <tr>\n",
       "      <th>275</th>\n",
       "      <td>275</td>\n",
       "      <td>MSI Core i9 12th Gen - (32 GB/2 TB SSD/Windows...</td>\n",
       "      <td>₹3,90,990</td>\n",
       "      <td>/msi-core-i9-12th-gen-32-gb-2-tb-ssd-windows-1...</td>\n",
       "      <td>390990</td>\n",
       "    </tr>\n",
       "    <tr>\n",
       "      <th>27</th>\n",
       "      <td>27</td>\n",
       "      <td>MSI Core i9 12th Gen - (32 GB/2 TB SSD/Windows...</td>\n",
       "      <td>₹3,90,990</td>\n",
       "      <td>/msi-core-i9-12th-gen-32-gb-2-tb-ssd-windows-1...</td>\n",
       "      <td>390990</td>\n",
       "    </tr>\n",
       "    <tr>\n",
       "      <th>363</th>\n",
       "      <td>363</td>\n",
       "      <td>MSI Core i9 12th Gen - (32 GB/2 TB SSD/Windows...</td>\n",
       "      <td>₹3,90,990</td>\n",
       "      <td>/msi-core-i9-12th-gen-32-gb-2-tb-ssd-windows-1...</td>\n",
       "      <td>390990</td>\n",
       "    </tr>\n",
       "  </tbody>\n",
       "</table>\n",
       "</div>"
      ],
      "text/plain": [
       "     Unnamed: 0                                              title      price  \\\n",
       "510         510  ASUS ROG Zephyrus Duo 16 Ryzen 9 Octa Core 690...  ₹3,91,990   \n",
       "0             0  MSI Core i9 12th Gen - (32 GB/2 TB SSD/Windows...  ₹3,90,990   \n",
       "275         275  MSI Core i9 12th Gen - (32 GB/2 TB SSD/Windows...  ₹3,90,990   \n",
       "27           27  MSI Core i9 12th Gen - (32 GB/2 TB SSD/Windows...  ₹3,90,990   \n",
       "363         363  MSI Core i9 12th Gen - (32 GB/2 TB SSD/Windows...  ₹3,90,990   \n",
       "\n",
       "                                                  link  price_clean  \n",
       "510  /asus-rog-zephyrus-duo-16-ryzen-9-octa-core-69...       391990  \n",
       "0    /msi-core-i9-12th-gen-32-gb-2-tb-ssd-windows-1...       390990  \n",
       "275  /msi-core-i9-12th-gen-32-gb-2-tb-ssd-windows-1...       390990  \n",
       "27   /msi-core-i9-12th-gen-32-gb-2-tb-ssd-windows-1...       390990  \n",
       "363  /msi-core-i9-12th-gen-32-gb-2-tb-ssd-windows-1...       390990  "
      ]
     },
     "execution_count": 21,
     "metadata": {},
     "output_type": "execute_result"
    }
   ],
   "source": [
    "df.head()"
   ]
  },
  {
   "cell_type": "code",
   "execution_count": 22,
   "metadata": {},
   "outputs": [
    {
     "data": {
      "text/html": [
       "<div>\n",
       "<style scoped>\n",
       "    .dataframe tbody tr th:only-of-type {\n",
       "        vertical-align: middle;\n",
       "    }\n",
       "\n",
       "    .dataframe tbody tr th {\n",
       "        vertical-align: top;\n",
       "    }\n",
       "\n",
       "    .dataframe thead th {\n",
       "        text-align: right;\n",
       "    }\n",
       "</style>\n",
       "<table border=\"1\" class=\"dataframe\">\n",
       "  <thead>\n",
       "    <tr style=\"text-align: right;\">\n",
       "      <th></th>\n",
       "      <th>Unnamed: 0</th>\n",
       "      <th>title</th>\n",
       "      <th>price</th>\n",
       "      <th>link</th>\n",
       "      <th>price_clean</th>\n",
       "    </tr>\n",
       "  </thead>\n",
       "  <tbody>\n",
       "    <tr>\n",
       "      <th>317</th>\n",
       "      <td>317</td>\n",
       "      <td>Infinix INBook X1 Neo Series Celeron Quad Core...</td>\n",
       "      <td>₹22,990</td>\n",
       "      <td>/infinix-inbook-x1-neo-series-celeron-quad-cor...</td>\n",
       "      <td>22990</td>\n",
       "    </tr>\n",
       "    <tr>\n",
       "      <th>188</th>\n",
       "      <td>188</td>\n",
       "      <td>ASUS (2022) Celeron Dual Core - (4 GB/128 GB S...</td>\n",
       "      <td>₹22,990</td>\n",
       "      <td>/asus-2022-celeron-dual-core-4-gb-128-gb-ssd-w...</td>\n",
       "      <td>22990</td>\n",
       "    </tr>\n",
       "    <tr>\n",
       "      <th>288</th>\n",
       "      <td>288</td>\n",
       "      <td>Lenovo IdeaPad 1 Celeron Dual Core - (4 GB/256...</td>\n",
       "      <td>₹21,513</td>\n",
       "      <td>/lenovo-ideapad-1-celeron-dual-core-4-gb-256-g...</td>\n",
       "      <td>21513</td>\n",
       "    </tr>\n",
       "    <tr>\n",
       "      <th>485</th>\n",
       "      <td>485</td>\n",
       "      <td>Avita SATUS ULTIMUS S111 Celeron Dual Core - (...</td>\n",
       "      <td>₹21,490</td>\n",
       "      <td>/avita-satus-ultimus-s111-celeron-dual-core-4-...</td>\n",
       "      <td>21490</td>\n",
       "    </tr>\n",
       "    <tr>\n",
       "      <th>78</th>\n",
       "      <td>78</td>\n",
       "      <td>Infinix INBook X1 Neo Series Celeron Quad Core...</td>\n",
       "      <td>₹18,990</td>\n",
       "      <td>/infinix-inbook-x1-neo-series-celeron-quad-cor...</td>\n",
       "      <td>18990</td>\n",
       "    </tr>\n",
       "  </tbody>\n",
       "</table>\n",
       "</div>"
      ],
      "text/plain": [
       "     Unnamed: 0                                              title    price  \\\n",
       "317         317  Infinix INBook X1 Neo Series Celeron Quad Core...  ₹22,990   \n",
       "188         188  ASUS (2022) Celeron Dual Core - (4 GB/128 GB S...  ₹22,990   \n",
       "288         288  Lenovo IdeaPad 1 Celeron Dual Core - (4 GB/256...  ₹21,513   \n",
       "485         485  Avita SATUS ULTIMUS S111 Celeron Dual Core - (...  ₹21,490   \n",
       "78           78  Infinix INBook X1 Neo Series Celeron Quad Core...  ₹18,990   \n",
       "\n",
       "                                                  link  price_clean  \n",
       "317  /infinix-inbook-x1-neo-series-celeron-quad-cor...        22990  \n",
       "188  /asus-2022-celeron-dual-core-4-gb-128-gb-ssd-w...        22990  \n",
       "288  /lenovo-ideapad-1-celeron-dual-core-4-gb-256-g...        21513  \n",
       "485  /avita-satus-ultimus-s111-celeron-dual-core-4-...        21490  \n",
       "78   /infinix-inbook-x1-neo-series-celeron-quad-cor...        18990  "
      ]
     },
     "execution_count": 22,
     "metadata": {},
     "output_type": "execute_result"
    }
   ],
   "source": [
    "df.tail()"
   ]
  },
  {
   "cell_type": "code",
   "execution_count": 23,
   "metadata": {},
   "outputs": [
    {
     "data": {
      "text/plain": [
       "510    None\n",
       "0      None\n",
       "275    None\n",
       "27     None\n",
       "363    None\n",
       "       ... \n",
       "317    None\n",
       "188    None\n",
       "288    None\n",
       "485    None\n",
       "78     None\n",
       "Name: title, Length: 528, dtype: object"
      ]
     },
     "execution_count": 23,
     "metadata": {},
     "output_type": "execute_result"
    }
   ],
   "source": [
    "def clean_title(title):\n",
    "    pass\n",
    "\n",
    "df['title'].apply(clean_title)"
   ]
  },
  {
   "cell_type": "code",
   "execution_count": 26,
   "metadata": {},
   "outputs": [
    {
     "data": {
      "text/plain": [
       "510    [ASUS ROG Zephyrus Duo 16 Ryzen 9 Octa Core 69...\n",
       "0      [MSI Core i9 12th Gen ,  (32 GB/2 TB SSD/Windo...\n",
       "275    [MSI Core i9 12th Gen ,  (32 GB/2 TB SSD/Windo...\n",
       "27     [MSI Core i9 12th Gen ,  (32 GB/2 TB SSD/Windo...\n",
       "363    [MSI Core i9 12th Gen ,  (32 GB/2 TB SSD/Windo...\n",
       "                             ...                        \n",
       "317    [Infinix INBook X1 Neo Series Celeron Quad Cor...\n",
       "188    [ASUS (2022) Celeron Dual Core ,  (4 GB/128 GB...\n",
       "288    [Lenovo IdeaPad 1 Celeron Dual Core ,  (4 GB/2...\n",
       "485    [Avita SATUS ULTIMUS S111 Celeron Dual Core , ...\n",
       "78     [Infinix INBook X1 Neo Series Celeron Quad Cor...\n",
       "Name: title, Length: 528, dtype: object"
      ]
     },
     "execution_count": 26,
     "metadata": {},
     "output_type": "execute_result"
    }
   ],
   "source": [
    "def clean_title(title):\n",
    "    return title.split('-')\n",
    "\n",
    "df['title'].apply(clean_title)"
   ]
  },
  {
   "cell_type": "code",
   "execution_count": 27,
   "metadata": {},
   "outputs": [
    {
     "data": {
      "text/plain": [
       "510     (32 GB/2 TB SSD/Windows 11 Home/16 GB Graphic...\n",
       "0       (32 GB/2 TB SSD/Windows 11 Home/16 GB Graphic...\n",
       "275     (32 GB/2 TB SSD/Windows 11 Home/16 GB Graphic...\n",
       "27      (32 GB/2 TB SSD/Windows 11 Home/16 GB Graphic...\n",
       "363     (32 GB/2 TB SSD/Windows 11 Home/16 GB Graphic...\n",
       "                             ...                        \n",
       "317     (8 GB/256 GB SSD/Windows 11 Home) XL22 Thin a...\n",
       "188          (4 GB/128 GB SSD/Windows 11 Home) BR1100CKA\n",
       "288     (4 GB/256 GB SSD/Windows 11 Home) 11IGL05 Thi...\n",
       "485      (4 GB/128 GB SSD/Windows 11 Home) NU14A1INC43PN\n",
       "78      (4 GB/128 GB SSD/Windows 11 Home) XL22 Thin a...\n",
       "Name: title, Length: 528, dtype: object"
      ]
     },
     "execution_count": 27,
     "metadata": {},
     "output_type": "execute_result"
    }
   ],
   "source": [
    "def clean_title(title):\n",
    "    return title.split('-')[1]\n",
    "\n",
    "df['title'].apply(clean_title)"
   ]
  },
  {
   "cell_type": "code",
   "execution_count": 28,
   "metadata": {},
   "outputs": [
    {
     "data": {
      "text/plain": [
       "510    ASUS ROG Zephyrus Duo 16 Ryzen 9 Octa Core 6900HX\n",
       "0                                   MSI Core i9 12th Gen\n",
       "275                                 MSI Core i9 12th Gen\n",
       "27                                  MSI Core i9 12th Gen\n",
       "363                                 MSI Core i9 12th Gen\n",
       "                             ...                        \n",
       "317       Infinix INBook X1 Neo Series Celeron Quad Core\n",
       "188                        ASUS (2022) Celeron Dual Core\n",
       "288                   Lenovo IdeaPad 1 Celeron Dual Core\n",
       "485           Avita SATUS ULTIMUS S111 Celeron Dual Core\n",
       "78        Infinix INBook X1 Neo Series Celeron Quad Core\n",
       "Name: title, Length: 528, dtype: object"
      ]
     },
     "execution_count": 28,
     "metadata": {},
     "output_type": "execute_result"
    }
   ],
   "source": [
    "def clean_title(title):\n",
    "    return title.split('-')[0].strip()\n",
    "\n",
    "df['title'].apply(clean_title)"
   ]
  },
  {
   "cell_type": "code",
   "execution_count": 29,
   "metadata": {},
   "outputs": [
    {
     "data": {
      "text/plain": [
       "510    (ASUS ROG Zephyrus Duo 16 Ryzen 9 Octa Core 69...\n",
       "0      (MSI Core i9 12th Gen, (32 GB/2 TB SSD/Windows...\n",
       "275    (MSI Core i9 12th Gen, (32 GB/2 TB SSD/Windows...\n",
       "27     (MSI Core i9 12th Gen, (32 GB/2 TB SSD/Windows...\n",
       "363    (MSI Core i9 12th Gen, (32 GB/2 TB SSD/Windows...\n",
       "                             ...                        \n",
       "317    (Infinix INBook X1 Neo Series Celeron Quad Cor...\n",
       "188    (ASUS (2022) Celeron Dual Core, (4 GB/128 GB S...\n",
       "288    (Lenovo IdeaPad 1 Celeron Dual Core, (4 GB/256...\n",
       "485    (Avita SATUS ULTIMUS S111 Celeron Dual Core, (...\n",
       "78     (Infinix INBook X1 Neo Series Celeron Quad Cor...\n",
       "Name: title, Length: 528, dtype: object"
      ]
     },
     "execution_count": 29,
     "metadata": {},
     "output_type": "execute_result"
    }
   ],
   "source": [
    "def clean_title(title):\n",
    "    return title.split('-')[0].strip() , title.split('-')[1].strip()\n",
    "\n",
    "df['title'].apply(clean_title)"
   ]
  },
  {
   "cell_type": "code",
   "execution_count": 30,
   "metadata": {},
   "outputs": [],
   "source": [
    "def clean_title(title):\n",
    "    return title.split('-')[0].strip() , title.split('-')[1].strip()\n",
    "\n",
    "df[['name','configuration']] = df['title'].apply(clean_title).apply(pd.Series)"
   ]
  },
  {
   "cell_type": "code",
   "execution_count": 32,
   "metadata": {},
   "outputs": [],
   "source": [
    "def get_brand(name):\n",
    "    return name.split()[0]\n",
    "\n",
    "df['brand'] = df['name'].apply(get_brand)"
   ]
  },
  {
   "cell_type": "code",
   "execution_count": 34,
   "metadata": {},
   "outputs": [
    {
     "data": {
      "text/plain": [
       "ASUS         128\n",
       "MSI          127\n",
       "Lenovo        72\n",
       "DELL          58\n",
       "HP            57\n",
       "APPLE         28\n",
       "acer          26\n",
       "Infinix       17\n",
       "LG             4\n",
       "realme         4\n",
       "RedmiBook      2\n",
       "ALIENWARE      1\n",
       "Mi             1\n",
       "Nokia          1\n",
       "SAMSUNG        1\n",
       "Avita          1\n",
       "Name: brand, dtype: int64"
      ]
     },
     "execution_count": 34,
     "metadata": {},
     "output_type": "execute_result"
    }
   ],
   "source": [
    "df['brand'].value_counts()"
   ]
  },
  {
   "cell_type": "code",
   "execution_count": 36,
   "metadata": {},
   "outputs": [
    {
     "data": {
      "text/plain": [
       "<AxesSubplot: title={'center': 'Brand Distribution'}>"
      ]
     },
     "execution_count": 36,
     "metadata": {},
     "output_type": "execute_result"
    },
    {
     "data": {
      "image/png": "[encoded data removed]",
      "text/plain": [
       "<Figure size 1080x432 with 1 Axes>"
      ]
     },
     "metadata": {
      "needs_background": "light"
     },
     "output_type": "display_data"
    }
   ],
   "source": [
    "df['brand'].value_counts().plot(kind = 'bar',title='Brand Distribution', figsize=(15,6))"
   ]
  },
  {
   "cell_type": "code",
   "execution_count": 43,
   "metadata": {},
   "outputs": [
    {
     "data": {
      "text/plain": [
       "<AxesSubplot: title={'center': 'Brand Distribution'}>"
      ]
     },
     "execution_count": 43,
     "metadata": {},
     "output_type": "execute_result"
    },
    {
     "data": {
      "image/png": "[encoded data removed]",
      "text/plain": [
       "<Figure size 1080x432 with 1 Axes>"
      ]
     },
     "metadata": {
      "needs_background": "light"
     },
     "output_type": "display_data"
    }
   ],
   "source": [
    "df['price_clean'].plot(\n",
    "    kind = 'line',\n",
    "    title='Brand Distribution', \n",
    "    use_index=False,\n",
    "    figsize=(15,6))"
   ]
  },
  {
   "cell_type": "code",
   "execution_count": 44,
   "metadata": {},
   "outputs": [
    {
     "data": {
      "text/plain": [
       "<AxesSubplot: >"
      ]
     },
     "execution_count": 44,
     "metadata": {},
     "output_type": "execute_result"
    },
    {
     "data": {
      "image/png": "[encoded data removed]",
      "text/plain": [
       "<Figure size 1080x432 with 1 Axes>"
      ]
     },
     "metadata": {
      "needs_background": "light"
     },
     "output_type": "display_data"
    }
   ],
   "source": [
    "df['price_clean'].plot(\n",
    "    kind = 'box', \n",
    "    figsize=(15,6))"
   ]
  },
  {
   "cell_type": "code",
   "execution_count": null,
   "metadata": {},
   "outputs": [],
   "source": []
  }
 ],
 "metadata": {
  "kernelspec": {
   "display_name": "Python 3.9.12 ('base')",
   "language": "python",
   "name": "python3"
  },
  "language_info": {
   "codemirror_mode": {
    "name": "ipython",
    "version": 3
   },
   "file_extension": ".py",
   "mimetype": "text/x-python",
   "name": "python",
   "nbconvert_exporter": "python",
   "pygments_lexer": "ipython3",
   "version": "3.9.12"
  },
  "orig_nbformat": 4,
  "vscode": {
   "interpreter": {
    "hash": "d7e1ad9c6db060d3e4ace4e7b8fbee994ebeaf9f4a111c23bc69d03eecd31c87"
   }
  }
 },
 "nbformat": 4,
 "nbformat_minor": 2
}
