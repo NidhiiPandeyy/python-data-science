{
 "cells": [
  {
   "cell_type": "markdown",
   "metadata": {},
   "source": [
    "### Conditions\n",
    "> single condition based program   (if),\n",
    "> complete                         (if - else),\n",
    "> multiple                         (if - elif - else),\n",
    " #### code block\n",
    " ### if\n",
    " * if expression :\n",
    " * Statement 1\n",
    " * statement 2\n",
    " * ...\n",
    " * statement n"
   ]
  },
  {
   "cell_type": "code",
   "execution_count": 3,
   "metadata": {},
   "outputs": [
    {
     "name": "stdout",
     "output_type": "stream",
     "text": [
      "even\n",
      "the end\n"
     ]
    }
   ],
   "source": [
    "x=165764\n",
    "if x%2==0 :\n",
    "    print(\"even\")\n",
    "print(\"the end\")\n"
   ]
  },
  {
   "cell_type": "code",
   "execution_count": 7,
   "metadata": {},
   "outputs": [
    {
     "data": {
      "text/plain": [
       "False"
      ]
     },
     "execution_count": 7,
     "metadata": {},
     "output_type": "execute_result"
    }
   ],
   "source": [
    "a=\"a1\"\n",
    "a.isnumeric()"
   ]
  },
  {
   "cell_type": "markdown",
   "metadata": {},
   "source": [
    "isnumeric is a function..."
   ]
  },
  {
   "cell_type": "code",
   "execution_count": 10,
   "metadata": {},
   "outputs": [
    {
     "name": "stdout",
     "output_type": "stream",
     "text": [
      "Bad input\n"
     ]
    }
   ],
   "source": [
    "num = input(\"Enter a number\")\n",
    "if num.isnumeric() :\n",
    "    print(\"Well Done\")\n",
    "    num=int(num)\n",
    "else :\n",
    "    print(\"Bad input\")\n"
   ]
  },
  {
   "cell_type": "code",
   "execution_count": 13,
   "metadata": {},
   "outputs": [
    {
     "name": "stdout",
     "output_type": "stream",
     "text": [
      "Welcome to WWE\n"
     ]
    }
   ],
   "source": [
    "# Nesting Condition\n",
    "username =input('Enter username')\n",
    "email=input('input email')\n",
    "password = input('input password')\n",
    "if username =='john cena':\n",
    "   if email=='john@gmail.com':\n",
    "        if password == 'qwerty':\n",
    "            print(\"Welcome to WWE\")\n",
    "        else :\n",
    "            print(\"Wrong password\")\n",
    "   else :\n",
    "         print(\"wrong email\")\n",
    "else :\n",
    "    print(\"wrong username\")\n",
    "\n",
    "\n",
    "\n",
    "    \n",
    "\n"
   ]
  },
  {
   "cell_type": "code",
   "execution_count": 16,
   "metadata": {},
   "outputs": [
    {
     "name": "stdout",
     "output_type": "stream",
     "text": [
      "Welcome to WWE🥱\n"
     ]
    }
   ],
   "source": [
    "\n",
    "username =input('Enter username')\n",
    "email=input('input email')\n",
    "password = input('input password')\n",
    "if username != 'john cena':\n",
    "    print('Wrong Username')\n",
    "elif password!= 'qwerty':\n",
    "    print('Wrong password')\n",
    "elif email != 'john@gmail.com':\n",
    "    print('Wrong email')\n",
    "else:\n",
    "    print('Welcome to WWE🥱')\n",
    "\n"
   ]
  },
  {
   "cell_type": "code",
   "execution_count": 22,
   "metadata": {},
   "outputs": [
    {
     "name": "stdout",
     "output_type": "stream",
     "text": [
      "Grade is A\n"
     ]
    }
   ],
   "source": [
    "#a=input('Enter marks of a')\n",
    "#a=int(a)\n",
    "#b=input ('Enter marks of b')\n",
    "#b=int(b)\n",
    "marks = input('Enter Marks')\n",
    "if marks.isnumeric():\n",
    "    marks = int (marks)\n",
    "    if marks >=90:\n",
    "        print('Grade is A')\n",
    "    elif marks >=80:\n",
    "        print('Grade is B')\n",
    "    elif marks >= 70:\n",
    "        print('Grade is C')\n",
    "    elif marks >= 60:\n",
    "        print('Grade is D')\n",
    "    elif marks <60:\n",
    "        print('Grade is F')\n",
    "else :\n",
    "    print('mark is not a number, grade is invalid')"
   ]
  },
  {
   "cell_type": "code",
   "execution_count": null,
   "metadata": {},
   "outputs": [],
   "source": []
  }
 ],
 "metadata": {
  "kernelspec": {
   "display_name": "Python 3.9.12 ('base')",
   "language": "python",
   "name": "python3"
  },
  "language_info": {
   "codemirror_mode": {
    "name": "ipython",
    "version": 3
   },
   "file_extension": ".py",
   "mimetype": "text/x-python",
   "name": "python",
   "nbconvert_exporter": "python",
   "pygments_lexer": "ipython3",
   "version": "3.9.12"
  },
  "orig_nbformat": 4,
  "vscode": {
   "interpreter": {
    "hash": "d7e1ad9c6db060d3e4ace4e7b8fbee994ebeaf9f4a111c23bc69d03eecd31c87"
   }
  }
 },
 "nbformat": 4,
 "nbformat_minor": 2
}
