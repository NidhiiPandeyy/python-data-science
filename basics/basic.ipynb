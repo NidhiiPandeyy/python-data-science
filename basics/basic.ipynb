{
 "cells": [
  {
   "cell_type": "code",
   "execution_count": 1,
   "metadata": {},
   "outputs": [
    {
     "name": "stdout",
     "output_type": "stream",
     "text": [
      "\n"
     ]
    }
   ],
   "source": [
    "print()"
   ]
  },
  {
   "cell_type": "code",
   "execution_count": 2,
   "metadata": {},
   "outputs": [
    {
     "name": "stdout",
     "output_type": "stream",
     "text": [
      "Bruce Campbell\n"
     ]
    }
   ],
   "source": [
    "print(\"Bruce Campbell\")"
   ]
  },
  {
   "cell_type": "code",
   "execution_count": 3,
   "metadata": {},
   "outputs": [
    {
     "data": {
      "text/plain": [
       "'Welcome to Kingdon'"
      ]
     },
     "execution_count": 3,
     "metadata": {},
     "output_type": "execute_result"
    }
   ],
   "source": [
    "\"Welcome to Kingdon\""
   ]
  },
  {
   "cell_type": "markdown",
   "metadata": {},
   "source": [
    "gives the output as it is(as a raw data)."
   ]
  },
  {
   "cell_type": "code",
   "execution_count": 4,
   "metadata": {},
   "outputs": [
    {
     "data": {
      "text/plain": [
       "3497"
      ]
     },
     "execution_count": 4,
     "metadata": {},
     "output_type": "execute_result"
    }
   ],
   "source": [
    "230+3290-23   # gives the sum"
   ]
  },
  {
   "cell_type": "code",
   "execution_count": 5,
   "metadata": {},
   "outputs": [
    {
     "name": "stdout",
     "output_type": "stream",
     "text": [
      "This is an apple This is a fruit I dont like apple\n"
     ]
    }
   ],
   "source": [
    "print('This is an apple','This is a fruit','I dont like apple')"
   ]
  },
  {
   "cell_type": "code",
   "execution_count": 6,
   "metadata": {},
   "outputs": [
    {
     "name": "stdout",
     "output_type": "stream",
     "text": [
      "1 2 3 4 5 2.3 32.2\n"
     ]
    }
   ],
   "source": [
    "print(1,2,3,4,5,2.3,32.2)"
   ]
  },
  {
   "cell_type": "code",
   "execution_count": 7,
   "metadata": {},
   "outputs": [
    {
     "name": "stdout",
     "output_type": "stream",
     "text": [
      "This is Python Data Science \n",
      "we are going to do code\n",
      "and learn the secret of python\n",
      "Thats it!\n"
     ]
    }
   ],
   "source": [
    "print(\"This is Python Data Science \")\n",
    "print (\"we are going to do code\")\n",
    "print(\"and learn the secret of python\")\n",
    "print(\"Thats it!\")"
   ]
  },
  {
   "cell_type": "code",
   "execution_count": 8,
   "metadata": {},
   "outputs": [
    {
     "name": "stdout",
     "output_type": "stream",
     "text": [
      "This is Python Data Science\n",
      " we are going to do code \n",
      "and learn the secret of python \n",
      "Thats it!\n"
     ]
    }
   ],
   "source": [
    "print('This is Python Data Science\\n we are going to do code \\nand learn the secret of python \\nThats it!')"
   ]
  },
  {
   "cell_type": "code",
   "execution_count": 9,
   "metadata": {},
   "outputs": [
    {
     "name": "stdout",
     "output_type": "stream",
     "text": [
      "The Zen of Python, by Tim Peters\n",
      "\n",
      "Beautiful is better than ugly.\n",
      "Explicit is better than implicit.\n",
      "Simple is better than complex.\n",
      "Complex is better than complicated.\n",
      "Flat is better than nested.\n",
      "Sparse is better than dense.\n",
      "Readability counts.\n",
      "Special cases aren't special enough to break the rules.\n",
      "Although practicality beats purity.\n",
      "Errors should never pass silently.\n",
      "Unless explicitly silenced.\n",
      "In the face of ambiguity, refuse the temptation to guess.\n",
      "There should be one-- and preferably only one --obvious way to do it.\n",
      "Although that way may not be obvious at first unless you're Dutch.\n",
      "Now is better than never.\n",
      "Although never is often better than *right* now.\n",
      "If the implementation is hard to explain, it's a bad idea.\n",
      "If the implementation is easy to explain, it may be a good idea.\n",
      "Namespaces are one honking great idea -- let's do more of those!\n"
     ]
    }
   ],
   "source": [
    "import this"
   ]
  },
  {
   "cell_type": "code",
   "execution_count": 10,
   "metadata": {},
   "outputs": [
    {
     "name": "stdout",
     "output_type": "stream",
     "text": [
      "\n",
      " This is Python Data Science \n",
      " we are going to do code \n",
      " and learn the secret of python \n",
      " Thats it!\n",
      "\n"
     ]
    }
   ],
   "source": [
    "print('''\n",
    " This is Python Data Science \n",
    " we are going to do code \n",
    " and learn the secret of python \n",
    " Thats it!\n",
    "''')"
   ]
  },
  {
   "cell_type": "markdown",
   "metadata": {},
   "source": [
    "there are few settings in print function that we can provide whenever we want to print something."
   ]
  },
  {
   "cell_type": "code",
   "execution_count": 11,
   "metadata": {},
   "outputs": [
    {
     "name": "stdout",
     "output_type": "stream",
     "text": [
      "1,💕,2,💕,3,💕,4,💕,5,💕,2.3,💕,32.2\n"
     ]
    }
   ],
   "source": [
    "print(1,2,3,4,5,2.3,32.2, sep=',💕,')"
   ]
  },
  {
   "cell_type": "markdown",
   "metadata": {},
   "source": [
    "* sep = seperation symbol, \n",
    "* emoji = window+.(dot) \n"
   ]
  },
  {
   "cell_type": "markdown",
   "metadata": {},
   "source": [
    "1. for ordered list\n",
    "* for unordered list(*)\n",
    "* *for italic*(* *)\n",
    "   * _for italic_(_ _)\n",
    "* **for bold**(** **)\n",
    "   * __and this also__ (__  __)"
   ]
  },
  {
   "cell_type": "code",
   "execution_count": 12,
   "metadata": {},
   "outputs": [
    {
     "name": "stdout",
     "output_type": "stream",
     "text": [
      "This is multiline messege "
     ]
    }
   ],
   "source": [
    "print('This', end=' ')\n",
    "print('is', end=' ')\n",
    "print('multiline', end=' ')\n",
    "print('messege', end=' ')\n",
    "\n"
   ]
  },
  {
   "cell_type": "markdown",
   "metadata": {},
   "source": [
    "end = what comes at end of the line(it may be space, emoji etc)"
   ]
  },
  {
   "cell_type": "markdown",
   "metadata": {},
   "source": [
    "* creating a variable in pyhton\n",
    "* age = 18\n",
    "* name = bob\n",
    "* color2= 'red'\n",
    "* is_sleeping= False\n"
   ]
  },
  {
   "cell_type": "code",
   "execution_count": 13,
   "metadata": {},
   "outputs": [],
   "source": [
    "\n",
    "age = 1000\n",
    "name = 'bob'\n",
    "color2 = 'black'\n",
    "is_sleeping = False"
   ]
  },
  {
   "cell_type": "code",
   "execution_count": 14,
   "metadata": {},
   "outputs": [],
   "source": [
    "name = 'Nobita & Suzuka'"
   ]
  },
  {
   "cell_type": "markdown",
   "metadata": {},
   "source": [
    "datatype can canged by changing the value of a variable.\n",
    "(new varible of same data type can over write the previous one.)\n"
   ]
  },
  {
   "cell_type": "code",
   "execution_count": 15,
   "metadata": {},
   "outputs": [],
   "source": [
    "age =49\n"
   ]
  },
  {
   "cell_type": "markdown",
   "metadata": {},
   "source": [
    "## Integer\n",
    "* integer in python, means any numerical values (positive or negative)\n",
    "integer can be of any length, it is only limited by the memory available\n",
    "we can use the type() function to know which class a variable or a value belongs to\n",
    "* 1, +2,\n",
    "### example\n",
    "* x= 34\n",
    "* y=67564587\n",
    "* z=84568357843758368758357495684\n"
   ]
  },
  {
   "cell_type": "code",
   "execution_count": 16,
   "metadata": {},
   "outputs": [],
   "source": [
    "x = 1\n",
    "y = 46752096520937698567\n",
    "z = 384560856975760030000000000000000000000000000000000000000000000000000000000000000000000000000000000000000000000000000000"
   ]
  },
  {
   "cell_type": "markdown",
   "metadata": {},
   "source": [
    "## Float\n",
    "* Float or 'floating pint numbers' is a number, positive or negative, containing one or more decimals\n",
    "* Float can also be scientific nymbers with an \"e\" to inducate the power of 10\n",
    "* We can use type()function to know which class a variable or a value belongs to "
   ]
  },
  {
   "cell_type": "markdown",
   "metadata": {},
   "source": [
    "## String \n",
    "* String literals in python are surrounded by either single quatation marks, or double quatation mark.\n",
    "* MULTILINE STRINGS : we can assign a multiline string by using 3 quotes ''' hey '''"
   ]
  },
  {
   "cell_type": "markdown",
   "metadata": {},
   "source": [
    "### del\n",
    "del is use to delete the variable from the memory."
   ]
  },
  {
   "cell_type": "code",
   "execution_count": 17,
   "metadata": {},
   "outputs": [],
   "source": [
    "del y"
   ]
  },
  {
   "cell_type": "markdown",
   "metadata": {},
   "source": [
    "# boolean\n",
    "True or False\n"
   ]
  },
  {
   "cell_type": "code",
   "execution_count": 18,
   "metadata": {},
   "outputs": [],
   "source": [
    "is_coding =True\n",
    "is_fun= True\n",
    "are_u_bored= False"
   ]
  },
  {
   "cell_type": "markdown",
   "metadata": {},
   "source": [
    "# Nonetype\n",
    "null value and no value at all\n",
    "CREATE a empty variable\n"
   ]
  },
  {
   "cell_type": "markdown",
   "metadata": {},
   "source": [
    "# list\n",
    "immutable"
   ]
  },
  {
   "cell_type": "code",
   "execution_count": 19,
   "metadata": {},
   "outputs": [],
   "source": [
    "a = [5,10,15,20,25,30,35,40]\n",
    "vals = [1,2.2,'python']\n",
    "colors=['red','green','black']"
   ]
  },
  {
   "cell_type": "markdown",
   "metadata": {},
   "source": [
    "# touple"
   ]
  },
  {
   "cell_type": "code",
   "execution_count": 20,
   "metadata": {},
   "outputs": [],
   "source": [
    "a = (5,10,15,20,25,30,35,40)\n",
    "vals=(1,2.2,'python')\n",
    "colors=('red','green','black')"
   ]
  },
  {
   "cell_type": "markdown",
   "metadata": {},
   "source": [
    "# Sets"
   ]
  },
  {
   "cell_type": "code",
   "execution_count": 21,
   "metadata": {},
   "outputs": [],
   "source": [
    "a = {5,10,15,20,25,30,35,40}\n",
    "vals={1,2.2,'python'}\n",
    "colors={'red','green','black'}"
   ]
  },
  {
   "cell_type": "markdown",
   "metadata": {},
   "source": [
    "# dictionary"
   ]
  },
  {
   "cell_type": "code",
   "execution_count": 22,
   "metadata": {},
   "outputs": [],
   "source": [
    "car_info = {\n",
    "    \"brand\": \"Ford\",\n",
    "    \"model\": \"Mustang\",\n",
    "    \"year\": 1964\n",
    "    }"
   ]
  },
  {
   "cell_type": "markdown",
   "metadata": {},
   "source": [
    "# input in python"
   ]
  },
  {
   "cell_type": "code",
   "execution_count": 23,
   "metadata": {},
   "outputs": [
    {
     "name": "stdout",
     "output_type": "stream",
     "text": [
      "so according to you\n",
      "you are Preeti\n",
      "and you live in Lucknow\n"
     ]
    }
   ],
   "source": [
    "name = input('What is your name?')\n",
    "city = input('What city do you live in?')\n",
    "print(\"so according to you\")\n",
    "print('you are',name)\n",
    "print('and you live in',city)\n"
   ]
  },
  {
   "cell_type": "markdown",
   "metadata": {},
   "source": [
    "# coding\n",
    "35 keywords,variables, datatypes, statements, operators\n"
   ]
  },
  {
   "cell_type": "markdown",
   "metadata": {},
   "source": [
    "## operators\n"
   ]
  },
  {
   "cell_type": "markdown",
   "metadata": {},
   "source": [
    "### Arithmetic Operators"
   ]
  },
  {
   "cell_type": "code",
   "execution_count": 24,
   "metadata": {},
   "outputs": [
    {
     "name": "stdout",
     "output_type": "stream",
     "text": [
      "13\n",
      "7\n",
      "30\n",
      "3.3333333333333335\n",
      "3\n",
      "3\n",
      "1000\n"
     ]
    }
   ],
   "source": [
    "\n",
    "# operators\n",
    "a=10\n",
    "b=3\n",
    "print(a+b)   # addition\n",
    "print(a-b)   # subtraction\n",
    "print(a*b)   # multiplication\n",
    "print(a/b)   # float div\n",
    "print(a//b)  # int div\n",
    "print(23%5)  # remainder\n",
    "print(a**b)  # exponentiation\n",
    "\n"
   ]
  },
  {
   "cell_type": "markdown",
   "metadata": {},
   "source": [
    "### Assignment Operators"
   ]
  },
  {
   "cell_type": "code",
   "execution_count": 25,
   "metadata": {},
   "outputs": [],
   "source": [
    "# assignment\n",
    "a=10\n",
    "b=5\n",
    "c=3\n",
    "# alternate way to assign a value to a variable\n",
    "x,y,z =10,20,30"
   ]
  },
  {
   "cell_type": "code",
   "execution_count": 26,
   "metadata": {},
   "outputs": [],
   "source": [
    "a+= 2 # update a with a+2"
   ]
  },
  {
   "cell_type": "markdown",
   "metadata": {},
   "source": [
    "### Comparison Operators"
   ]
  },
  {
   "cell_type": "code",
   "execution_count": 27,
   "metadata": {},
   "outputs": [
    {
     "name": "stdout",
     "output_type": "stream",
     "text": [
      "True\n",
      "True\n",
      "False\n",
      "False\n",
      "False\n",
      "True\n"
     ]
    }
   ],
   "source": [
    "print(a>b)     # greater than\n",
    "print(a>=b)    # greater than equal to\n",
    "print(a<b)     # less than\n",
    "print(a<=b)    # less than equal to\n",
    "print(a==b)    # equals to equal to\n",
    "print(a!=b)    # not equal to\n"
   ]
  },
  {
   "cell_type": "markdown",
   "metadata": {},
   "source": [
    "### logical operators (and, or, not)"
   ]
  },
  {
   "cell_type": "code",
   "execution_count": 28,
   "metadata": {},
   "outputs": [
    {
     "name": "stdout",
     "output_type": "stream",
     "text": [
      "False\n",
      "False\n",
      "True\n",
      "True\n",
      "False\n",
      "True\n",
      "False\n",
      "False\n",
      "False\n",
      "False\n",
      "False\n"
     ]
    }
   ],
   "source": [
    "print(a>b and b>5)\n",
    "print(a<b and a>5)\n",
    "\n",
    "print(a>b or a >5)\n",
    "print(a<b or a >5)\n",
    "print(a<b or a <5)\n",
    "\n",
    "print(not a<b)\n",
    "print(not a>b)\n",
    "\n",
    "print(not a and not b and not c)         #??\n",
    "print(not a)\n",
    "print(not b)\n",
    "print(not c)\n"
   ]
  },
  {
   "cell_type": "markdown",
   "metadata": {},
   "source": [
    "### membership operators"
   ]
  },
  {
   "cell_type": "markdown",
   "metadata": {},
   "source": [
    "#### in\t\n",
    "* Returns True if a sequence with the specified value is present in the object \n",
    "* x in y\n",
    "#### not in\t\n",
    "* Returns True if a sequence with the specified value is not present in the object\t\n",
    "* x not in y"
   ]
  },
  {
   "cell_type": "code",
   "execution_count": 29,
   "metadata": {},
   "outputs": [
    {
     "name": "stdout",
     "output_type": "stream",
     "text": [
      "True\n",
      "True\n",
      "False\n",
      "True\n",
      "False\n",
      "False\n",
      "True\n"
     ]
    }
   ],
   "source": [
    "colors=['red','green','blue','yellow','black']\n",
    "print('red' in colors)\n",
    "print('green' in colors)\n",
    "print('pink' in colors)\n",
    "print('blue' in colors)\n",
    "print('yellow' not in colors)\n",
    "print('black' not in colors)\n",
    "print('RED' not in colors)\n"
   ]
  },
  {
   "cell_type": "code",
   "execution_count": 30,
   "metadata": {},
   "outputs": [
    {
     "name": "stdout",
     "output_type": "stream",
     "text": [
      "True\n",
      "False\n"
     ]
    }
   ],
   "source": [
    "msg = \"Its the journey that matters\"\n",
    "print('journey' in msg)\n",
    "print('destination' in msg)\n"
   ]
  },
  {
   "cell_type": "markdown",
   "metadata": {},
   "source": [
    "\n",
    "# is operator checks whether two objects "
   ]
  },
  {
   "cell_type": "code",
   "execution_count": 31,
   "metadata": {},
   "outputs": [
    {
     "name": "stdout",
     "output_type": "stream",
     "text": [
      "78.25\n"
     ]
    }
   ],
   "source": [
    "# Area of circle\n",
    "r = 5\n",
    "print(3.13*r**2)  # 2**4 is for 2^4"
   ]
  },
  {
   "cell_type": "markdown",
   "metadata": {},
   "source": [
    "#### Questions for practice....."
   ]
  },
  {
   "cell_type": "code",
   "execution_count": 32,
   "metadata": {},
   "outputs": [
    {
     "name": "stdout",
     "output_type": "stream",
     "text": [
      "50.24 for a circle with radius 4\n"
     ]
    }
   ],
   "source": [
    "radius =int (input('Enter the radius of the circle')) # casting()\n",
    "#radius = input('Enter the radius of the circle')\n",
    "#radius = int(radius)\n",
    "area = 3.14 * radius ** 2\n",
    "print (area, 'for a circle with radius', radius)"
   ]
  },
  {
   "cell_type": "code",
   "execution_count": 33,
   "metadata": {},
   "outputs": [
    {
     "name": "stdout",
     "output_type": "stream",
     "text": [
      "15\n"
     ]
    }
   ],
   "source": [
    "# Area of rectangle\n",
    "l=3\n",
    "b=5\n",
    "print(l*b)"
   ]
  },
  {
   "cell_type": "code",
   "execution_count": 34,
   "metadata": {},
   "outputs": [
    {
     "name": "stdout",
     "output_type": "stream",
     "text": [
      "7.5\n"
     ]
    }
   ],
   "source": [
    "# area of triangle\n",
    "print(0.5*(l*b))"
   ]
  },
  {
   "cell_type": "code",
   "execution_count": 35,
   "metadata": {},
   "outputs": [],
   "source": [
    "import math   # library"
   ]
  },
  {
   "cell_type": "code",
   "execution_count": 36,
   "metadata": {},
   "outputs": [
    {
     "data": {
      "text/plain": [
       "3.141592653589793"
      ]
     },
     "execution_count": 36,
     "metadata": {},
     "output_type": "execute_result"
    }
   ],
   "source": [
    "math.pi    #for list ctrl+space"
   ]
  },
  {
   "cell_type": "code",
   "execution_count": 37,
   "metadata": {},
   "outputs": [
    {
     "name": "stdout",
     "output_type": "stream",
     "text": [
      "hypotenus is 6.4031242374328485\n"
     ]
    }
   ],
   "source": [
    "# hypotenus using perp. and base\n",
    "\n",
    "\n",
    "p=float(input('Enter parpendicular'))\n",
    "b=float(input('Enter base'))\n",
    "h=math.hypot(p,b)\n",
    "\n",
    "print('hypotenus is',h)\n"
   ]
  },
  {
   "cell_type": "code",
   "execution_count": 38,
   "metadata": {},
   "outputs": [
    {
     "name": "stdout",
     "output_type": "stream",
     "text": [
      "Factorial of 5 is 120\n"
     ]
    }
   ],
   "source": [
    "# fact of 5\n",
    "num = int(input('Enter a number'))\n",
    "fact = math.factorial(num)\n",
    "print('Factorial of',num,'is',fact)"
   ]
  },
  {
   "cell_type": "code",
   "execution_count": 39,
   "metadata": {},
   "outputs": [
    {
     "name": "stdout",
     "output_type": "stream",
     "text": [
      "['__doc__', '__loader__', '__name__', '__package__', '__spec__', 'acos', 'acosh', 'asin', 'asinh', 'atan', 'atan2', 'atanh', 'ceil', 'comb', 'copysign', 'cos', 'cosh', 'degrees', 'dist', 'e', 'erf', 'erfc', 'exp', 'expm1', 'fabs', 'factorial', 'floor', 'fmod', 'frexp', 'fsum', 'gamma', 'gcd', 'hypot', 'inf', 'isclose', 'isfinite', 'isinf', 'isnan', 'isqrt', 'lcm', 'ldexp', 'lgamma', 'log', 'log10', 'log1p', 'log2', 'modf', 'nan', 'nextafter', 'perm', 'pi', 'pow', 'prod', 'radians', 'remainder', 'sin', 'sinh', 'sqrt', 'tan', 'tanh', 'tau', 'trunc', 'ulp']\n"
     ]
    }
   ],
   "source": [
    "print(dir(math))"
   ]
  },
  {
   "cell_type": "code",
   "execution_count": 40,
   "metadata": {},
   "outputs": [
    {
     "name": "stdout",
     "output_type": "stream",
     "text": [
      "Compound Interest is 350.9446951953614\n"
     ]
    }
   ],
   "source": [
    "# compound interest\n",
    "p= float(input('Enter principal balance'))\n",
    "r=float(input('enter interest rate'))\n",
    "n=float(input('enter number of times interest applied per time period'))\n",
    "t=float(input('number of time period elapsed'))\n",
    "a= p*((1+(r/n)**(n*t)))\n",
    "print('Compound Interest is', a)"
   ]
  },
  {
   "cell_type": "markdown",
   "metadata": {},
   "source": [
    "### Conditions\n",
    "> single condition based program   (if)\n",
    "> complete                         (if - else)\n",
    "> multiple                         (if - elif - else)\n",
    " #### code block\n",
    " ### if\n",
    " * if expression :\n",
    " * Statement 1\n",
    " * statement 2\n",
    " * ...\n",
    " * statement n"
   ]
  },
  {
   "cell_type": "code",
   "execution_count": 1,
   "metadata": {},
   "outputs": [
    {
     "name": "stdout",
     "output_type": "stream",
     "text": [
      "__repr__ built in function called\n"
     ]
    }
   ],
   "source": [
    "class demo():\n",
    "    def __repr__(self):\n",
    "        return '__repr__ built in function called'\n",
    "    def __str__(self):\n",
    "        return '__repr__ built in function called'\n",
    "s=demo()\n",
    "print(s)\n",
    "        "
   ]
  },
  {
   "cell_type": "code",
   "execution_count": 2,
   "metadata": {},
   "outputs": [
    {
     "name": "stdout",
     "output_type": "stream",
     "text": [
      "Old\n"
     ]
    }
   ],
   "source": [
    "class test:\n",
    "    def __init__(self):\n",
    "        self.variable = 'Old'\n",
    "        self.change(self.variable)\n",
    "    def change(self, var):\n",
    "        var = 'New'\n",
    "obj = test()\n",
    "print(obj.variable)"
   ]
  },
  {
   "cell_type": "code",
   "execution_count": 5,
   "metadata": {},
   "outputs": [
    {
     "name": "stdout",
     "output_type": "stream",
     "text": [
      "a is 3 and b is 7 and c is 10\n",
      "a is 25 and b is 5 and c is 24\n",
      "a is 100 and b is 5 and c is 50\n"
     ]
    }
   ],
   "source": [
    "def func(a, b=5, c=10):\n",
    "    print('a is', a, 'and b is', b, 'and c is', c)\n",
    "\n",
    "func(3,7)\n",
    "func(25, c= 24)\n",
    "func(c=50,a=100)"
   ]
  },
  {
   "cell_type": "code",
   "execution_count": 4,
   "metadata": {},
   "outputs": [
    {
     "name": "stdout",
     "output_type": "stream",
     "text": [
      "2\n"
     ]
    }
   ],
   "source": [
    "names =  ['Amir','Bala','Chales']\n",
    "if 'amir' in names:\n",
    "    print(1)\n",
    "else:\n",
    "    print(2)"
   ]
  },
  {
   "cell_type": "code",
   "execution_count": 7,
   "metadata": {},
   "outputs": [
    {
     "name": "stdout",
     "output_type": "stream",
     "text": [
      "4\n"
     ]
    }
   ],
   "source": [
    "nums= set([1,1,2,3,3,3,4,4])\n",
    "print(len(nums))"
   ]
  },
  {
   "cell_type": "code",
   "execution_count": 8,
   "metadata": {},
   "outputs": [
    {
     "data": {
      "text/plain": [
       "[1, 8, 27, 64, 125, 216, 343, 512, 729]"
      ]
     },
     "execution_count": 8,
     "metadata": {},
     "output_type": "execute_result"
    }
   ],
   "source": [
    "l = [1,2,3,4,5,6,7,8,9]\n",
    "[x**3 for x in l]"
   ]
  },
  {
   "cell_type": "code",
   "execution_count": null,
   "metadata": {},
   "outputs": [],
   "source": []
  }
 ],
 "metadata": {
  "kernelspec": {
   "display_name": "Python 3.9.12 ('base')",
   "language": "python",
   "name": "python3"
  },
  "language_info": {
   "codemirror_mode": {
    "name": "ipython",
    "version": 3
   },
   "file_extension": ".py",
   "mimetype": "text/x-python",
   "name": "python",
   "nbconvert_exporter": "python",
   "pygments_lexer": "ipython3",
   "version": "3.9.12"
  },
  "orig_nbformat": 4,
  "vscode": {
   "interpreter": {
    "hash": "d7e1ad9c6db060d3e4ace4e7b8fbee994ebeaf9f4a111c23bc69d03eecd31c87"
   }
  }
 },
 "nbformat": 4,
 "nbformat_minor": 2
}
