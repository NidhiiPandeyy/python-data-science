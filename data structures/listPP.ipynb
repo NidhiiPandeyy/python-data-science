{
 "cells": [
  {
   "cell_type": "code",
   "execution_count": 15,
   "metadata": {},
   "outputs": [
    {
     "data": {
      "text/plain": [
       "'#mean\\nlist=[15,48,26,47,5,74,8,62,4876]\\nsum=0\\nfor i in list:\\n    sum=sum+i\\n    mean=sum/len(list)\\nprint(mean)'"
      ]
     },
     "execution_count": 15,
     "metadata": {},
     "output_type": "execute_result"
    }
   ],
   "source": [
    "'''#mean\n",
    "list=[15,48,26,47,5,74,8,62,4876]\n",
    "sum=0\n",
    "for i in list:\n",
    "    sum=sum+i\n",
    "    mean=sum/len(list)\n",
    "print(mean)'''"
   ]
  },
  {
   "cell_type": "code",
   "execution_count": 3,
   "metadata": {},
   "outputs": [
    {
     "name": "stdout",
     "output_type": "stream",
     "text": [
      "4.375\n",
      "1\n",
      "8\n"
     ]
    }
   ],
   "source": [
    "#from statistics import median\n",
    "\n",
    "x=[2,4,6,8,5,4,5,3,1,3,4,5,6,3,5,6]\n",
    "#mean\n",
    "mean=sum(x)/len(x)\n",
    "print(mean)\n",
    "\n",
    "#median\n",
    "#print(median(x))\n",
    "\n",
    "#min\n",
    "print(min(x))\n",
    "\n",
    "#max\n",
    "print(max(x))\n",
    "\n",
    "\n"
   ]
  },
  {
   "cell_type": "code",
   "execution_count": null,
   "metadata": {},
   "outputs": [
    {
     "name": "stdout",
     "output_type": "stream",
     "text": [
      "4.5\n"
     ]
    }
   ],
   "source": [
    "#median\n",
    "x.sort()\n",
    "if len(x) % 2==0:\n",
    "    median=(x[len(x)//2] + x[len(x)//2-1])/2\n",
    "else:\n",
    "    median=x[len(x)//2]\n",
    "print(median)"
   ]
  },
  {
   "cell_type": "code",
   "execution_count": 1,
   "metadata": {},
   "outputs": [
    {
     "name": "stdout",
     "output_type": "stream",
     "text": [
      "[4, 4, 5, 7]\n"
     ]
    }
   ],
   "source": [
    "# add 2 list together element wise and produce a new list\n",
    "\n",
    "a1=[1,2,3,4]\n",
    "b1=[3,2,2,3]\n",
    "nl=[]\n",
    "\n",
    "for i,j in zip(a1,b1):      #zin includes two or more lists\n",
    "    nl.append(i+j)\n",
    "    \n",
    "print(nl)\n",
    "\n"
   ]
  },
  {
   "cell_type": "code",
   "execution_count": null,
   "metadata": {},
   "outputs": [
    {
     "name": "stdout",
     "output_type": "stream",
     "text": [
      "[1, 2, 3, 4, 5, 6, 7, 8, 9]\n",
      "[1, 4, 9, 16, 25, 36, 49, 64, 81]\n"
     ]
    }
   ],
   "source": [
    "#create a list where every element is sqr of element from an existing list\n",
    "a=[1,2,3,4,5,6,7,8,9]\n",
    "b=[]\n",
    "for i in a:\n",
    "    b.append(i**2)\n",
    "print(a)\n",
    "print(b)\n"
   ]
  },
  {
   "cell_type": "code",
   "execution_count": 8,
   "metadata": {},
   "outputs": [
    {
     "name": "stdout",
     "output_type": "stream",
     "text": [
      "[1, 2, 3, 4, 5, 6, 7, 8, 9]\n",
      "[1, 9, 25, 49, 81]\n"
     ]
    }
   ],
   "source": [
    "#create a list where every odd element is a sqr of elements from an existing list\n",
    "a=[1,2,3,4,5,6,7,8,9]\n",
    "b=[]\n",
    "'''for i in a:\n",
    "    if i%2 != 0:\n",
    "        b.append(i**2)'''\n",
    "b=[i**2 for i in a if  i%2 !=0 ]\n",
    "print(a)\n",
    "print(b)"
   ]
  },
  {
   "cell_type": "code",
   "execution_count": null,
   "metadata": {},
   "outputs": [
    {
     "name": "stdout",
     "output_type": "stream",
     "text": [
      "['US', 'PM', 'SE', 'DA', 'SSE', 'SDA', 'DS', 'DE']\n"
     ]
    }
   ],
   "source": [
    "#create a acronym list from an existing list of words\n",
    "words=['United State','Project Manager','Software Engineer','Data Analyst','Senior Software Engineer','Senior Data Analyst','Data Scientist','Data Engineer']\n",
    "abbrs=[]\n",
    "for i in words:\n",
    "    i=i.split()\n",
    "    s=''\n",
    "    for j in i:\n",
    "        s+=j[0]\n",
    "    abbrs.append(s)\n",
    "print(abbrs)"
   ]
  },
  {
   "cell_type": "code",
   "execution_count": 2,
   "metadata": {},
   "outputs": [
    {
     "name": "stdout",
     "output_type": "stream",
     "text": [
      "['10', '20', '30', '40', '50', '60', '70', 'frg', 'yth', 'gth']\n"
     ]
    }
   ],
   "source": [
    "#take a list from user in one line of input and then remove all the non numeric values from the list then display the cubes of numbers from that list\n",
    "'''from unicodedata import numeric\n",
    "\n",
    "\n",
    "val=[]\n",
    "for i in range(10):\n",
    "    vall=input(f'the values are {i+1} :')\n",
    "    if i!=numeric:\n",
    "        \n",
    "    #val.append(vall)\n",
    "\n",
    "print(val)'''"
   ]
  },
  {
   "cell_type": "code",
   "execution_count": 9,
   "metadata": {},
   "outputs": [
    {
     "name": "stdout",
     "output_type": "stream",
     "text": [
      "1 2 3 4 5 6gfd ruj asd jtm7 8 5 4\n",
      "[1, 2, 3, 4, 5, 8, 5, 4]\n",
      "[1, 8, 27, 64, 125, 512, 125, 64]\n"
     ]
    }
   ],
   "source": [
    "entries=input('enter data seperated with space: ')\n",
    "print(entries)\n",
    "numeric_entries = [int(value) for value in entries.split() if value.isnumeric() ]\n",
    "#for value in entries.split():\n",
    "#    if value.isnumeric():\n",
    "#        numeric_entries.append(int(value))\n",
    "print(numeric_entries)\n",
    " \n",
    "cube=[i**3 for i in numeric_entries ]\n",
    "#for i in numeric_entries:\n",
    "    #cube.append(i**3)\n",
    "print(cube)"
   ]
  },
  {
   "cell_type": "markdown",
   "metadata": {},
   "source": [
    "# list comprehension\n",
    "#### it is a way to create a list from existing list using one line of expression\n",
    "- Syntax\n",
    " \n",
    "newlist=[expression for item in oldlist]\n",
    "\n",
    "- with condition syntax\n",
    "\n",
    "newlis[expression for item in oldlist if condition]\n",
    "\n",
    "\n",
    " "
   ]
  },
  {
   "cell_type": "code",
   "execution_count": null,
   "metadata": {},
   "outputs": [],
   "source": []
  },
  {
   "cell_type": "markdown",
   "metadata": {},
   "source": []
  }
 ],
 "metadata": {
  "kernelspec": {
   "display_name": "Python 3.9.12 ('base')",
   "language": "python",
   "name": "python3"
  },
  "language_info": {
   "codemirror_mode": {
    "name": "ipython",
    "version": 3
   },
   "file_extension": ".py",
   "mimetype": "text/x-python",
   "name": "python",
   "nbconvert_exporter": "python",
   "pygments_lexer": "ipython3",
   "version": "3.9.12"
  },
  "orig_nbformat": 4,
  "vscode": {
   "interpreter": {
    "hash": "d7e1ad9c6db060d3e4ace4e7b8fbee994ebeaf9f4a111c23bc69d03eecd31c87"
   }
  }
 },
 "nbformat": 4,
 "nbformat_minor": 2
}
