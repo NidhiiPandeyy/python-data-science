{
 "cells": [
  {
   "cell_type": "code",
   "execution_count": 62,
   "metadata": {},
   "outputs": [
    {
     "name": "stdout",
     "output_type": "stream",
     "text": [
      "Hello World!\n"
     ]
    }
   ],
   "source": [
    "#Q1\n",
    "s1='Hello World!'\n",
    "print(s1)"
   ]
  },
  {
   "cell_type": "code",
   "execution_count": 63,
   "metadata": {},
   "outputs": [
    {
     "name": "stdout",
     "output_type": "stream",
     "text": [
      "12\n"
     ]
    }
   ],
   "source": [
    "#Q2\n",
    "s2=input(\"enter your name\")\n",
    "print(len(s2))"
   ]
  },
  {
   "cell_type": "code",
   "execution_count": 64,
   "metadata": {},
   "outputs": [
    {
     "name": "stdout",
     "output_type": "stream",
     "text": [
      "great\n"
     ]
    }
   ],
   "source": [
    "#Q3\n",
    "s3=\"Python is great\"\n",
    "slice = s3[-5:]\n",
    "print(slice)"
   ]
  },
  {
   "cell_type": "code",
   "execution_count": 65,
   "metadata": {},
   "outputs": [
    {
     "name": "stdout",
     "output_type": "stream",
     "text": [
      "pyhton\n",
      "is \n",
      "everywhere\n"
     ]
    }
   ],
   "source": [
    "#Q4\n",
    "s4='pyhton is everywhere'\n",
    "slice1 = s4[:6]\n",
    "slice2 = s4[7:10]\n",
    "slice3 = s4[-10:]\n",
    "print(slice1)\n",
    "print(slice2)\n",
    "print(slice3)"
   ]
  },
  {
   "cell_type": "code",
   "execution_count": 18,
   "metadata": {},
   "outputs": [
    {
     "name": "stdout",
     "output_type": "stream",
     "text": [
      "!dlroW olleH\n"
     ]
    }
   ],
   "source": [
    "#Q5\n",
    "slice4=s1[::-1]\n",
    "print(slice4)"
   ]
  },
  {
   "cell_type": "code",
   "execution_count": 35,
   "metadata": {},
   "outputs": [
    {
     "name": "stdout",
     "output_type": "stream",
     "text": [
      "['!', 'd', 'l', 'r', 'o', 'W', ' ', 'o', 'l', 'l', 'e', 'H']\n"
     ]
    }
   ],
   "source": [
    "print(list(reversed(s1)))"
   ]
  },
  {
   "cell_type": "code",
   "execution_count": 32,
   "metadata": {},
   "outputs": [
    {
     "name": "stdout",
     "output_type": "stream",
     "text": [
      "HOW ARE YOU?\n"
     ]
    }
   ],
   "source": [
    "#Q6\n",
    "s6 = \"How are you?\"\n",
    "print(s6.upper())"
   ]
  },
  {
   "cell_type": "code",
   "execution_count": 38,
   "metadata": {},
   "outputs": [
    {
     "name": "stdout",
     "output_type": "stream",
     "text": [
      "how is it going?\n"
     ]
    }
   ],
   "source": [
    "#Q7\n",
    "s7 = 'How is it going?'\n",
    "print(s7.lower())"
   ]
  },
  {
   "cell_type": "code",
   "execution_count": 1,
   "metadata": {},
   "outputs": [
    {
     "name": "stdout",
     "output_type": "stream",
     "text": [
      "Python is easy to learn\n"
     ]
    }
   ],
   "source": [
    "#Q8  ####\n",
    "words = ['Python', 'is', 'easy', 'to', 'learn']\n",
    "str=' '.join(words)\n",
    "print(str)\n",
    "#print(*words)\n"
   ]
  },
  {
   "cell_type": "code",
   "execution_count": 39,
   "metadata": {},
   "outputs": [
    {
     "name": "stdout",
     "output_type": "stream",
     "text": [
      "\n",
      "Python is an interpreted, object-oriented, high-level programming language with dynamic semantics.\n",
      "Its high-level built in data structures, combined with dynamic typing and dynamic binding,\n",
      "make it very attractive for Rapid Application Development, \n",
      "as well as for use as a scripting or glue language to connect existing components together.\n",
      "Python's simple, easy to learn syntax emphasizes readability and therefore reduces the cost of program maintenance.\n",
      "Python supports modules and packages, which encourages program modularity and code reuse. \n",
      "The Python interpreter and the extensive standard library are available in source or binary form without charge for all major platforms,\n",
      "and can be freely distributed.\n"
     ]
    }
   ],
   "source": [
    "#Q9\n",
    "print('''\n",
    "Python is an interpreted, object-oriented, high-level programming language with dynamic semantics.\n",
    "Its high-level built in data structures, combined with dynamic typing and dynamic binding,\n",
    "make it very attractive for Rapid Application Development, \n",
    "as well as for use as a scripting or glue language to connect existing components together.\n",
    "Python's simple, easy to learn syntax emphasizes readability and therefore reduces the cost of program maintenance.\n",
    "Python supports modules and packages, which encourages program modularity and code reuse. \n",
    "The Python interpreter and the extensive standard library are available in source or binary form without charge for all major platforms,\n",
    "and can be freely distributed.''')"
   ]
  },
  {
   "cell_type": "code",
   "execution_count": 53,
   "metadata": {},
   "outputs": [
    {
     "name": "stdout",
     "output_type": "stream",
     "text": [
      "to move to next line '\\n' is used \n"
     ]
    }
   ],
   "source": [
    "#Q10\n",
    "print('to move to next line \\'\\\\n\\' is used ')  #using escape sequence"
   ]
  },
  {
   "cell_type": "code",
   "execution_count": 43,
   "metadata": {},
   "outputs": [
    {
     "name": "stdout",
     "output_type": "stream",
     "text": [
      "the variable is 15\n"
     ]
    }
   ],
   "source": [
    "#Q11\n",
    "print(\"the variable is 15\") #lil confusion"
   ]
  },
  {
   "cell_type": "code",
   "execution_count": 44,
   "metadata": {},
   "outputs": [
    {
     "name": "stdout",
     "output_type": "stream",
     "text": [
      "python is great.\n"
     ]
    }
   ],
   "source": [
    "#Q12\n",
    "s1 = 'python'\n",
    "s2 = 'is'\n",
    "s3 = 'great.'\n",
    "print(s1+\" \"+s2+\" \"+s3)"
   ]
  },
  {
   "cell_type": "code",
   "execution_count": 45,
   "metadata": {},
   "outputs": [
    {
     "name": "stdout",
     "output_type": "stream",
     "text": [
      "####################\n"
     ]
    }
   ],
   "source": [
    "#Q13\n",
    "print('#'*20)"
   ]
  },
  {
   "cell_type": "code",
   "execution_count": 77,
   "metadata": {},
   "outputs": [
    {
     "name": "stdout",
     "output_type": "stream",
     "text": [
      "1.\n",
      "2.\n",
      "3.\n",
      "4.\n",
      "5.\n",
      "6.\n",
      "7.\n",
      "8.\n",
      "9.\n",
      "10.\n"
     ]
    }
   ],
   "source": [
    "#Q14\n",
    "s8 = ('1. 2. 3. 4. 5. 6. 7. 8. 9. 10.')\n",
    "for word in s8.split():\n",
    "    print(word)"
   ]
  },
  {
   "cell_type": "code",
   "execution_count": 76,
   "metadata": {},
   "outputs": [
    {
     "name": "stdout",
     "output_type": "stream",
     "text": [
      "Hey,\n",
      "Do\n",
      "not\n",
      "give\n",
      "up.\n"
     ]
    }
   ],
   "source": [
    "#Q15\n",
    "msg = (input(\"Enter The msg\"))\n",
    "for word in msg.split():\n",
    "    print(word)"
   ]
  },
  {
   "cell_type": "code",
   "execution_count": 148,
   "metadata": {},
   "outputs": [
    {
     "name": "stdout",
     "output_type": "stream",
     "text": [
      "not found\n"
     ]
    }
   ],
   "source": [
    "#Q16 # not exact\n",
    "msg =(input(\"ask any question\"))\n",
    "if '?' in msg:\n",
    "    print(\"found\")\n",
    "else:\n",
    "    print(\"not found\")\n",
    "\n"
   ]
  },
  {
   "cell_type": "code",
   "execution_count": 82,
   "metadata": {},
   "outputs": [
    {
     "name": "stdout",
     "output_type": "stream",
     "text": [
      "e : 22\n"
     ]
    }
   ],
   "source": [
    "#Q17\n",
    "msg=(input(\"tell me something about string\"))\n",
    "vowel = 'e'\n",
    "for v in vowel:\n",
    "    c=msg.count(v)\n",
    "    print(f'{v} : {c}')"
   ]
  },
  {
   "cell_type": "code",
   "execution_count": 86,
   "metadata": {},
   "outputs": [
    {
     "name": "stdout",
     "output_type": "stream",
     "text": [
      "well done!\n"
     ]
    }
   ],
   "source": [
    "#Q18\n",
    "msg=(input(\"Enter a number\"))\n",
    "if msg.isnumeric() :\n",
    "    print('well done!')\n",
    "else:\n",
    "    print(\"Wrong input\")\n"
   ]
  },
  {
   "cell_type": "code",
   "execution_count": 145,
   "metadata": {},
   "outputs": [
    {
     "name": "stdout",
     "output_type": "stream",
     "text": [
      "this is not a good string\n"
     ]
    }
   ],
   "source": [
    "#Q19 \n",
    "text = '   this is not a good string          '\n",
    "text1= text.strip()\n",
    "print(text1)\n"
   ]
  },
  {
   "cell_type": "code",
   "execution_count": 6,
   "metadata": {},
   "outputs": [],
   "source": [
    "#Q20 \n",
    "msg = (input(\"Enter a text with uppercase\"))\n",
    "for v in msg:\n",
    "    if v.isupper():\n",
    "        print(\"found\")\n",
    "        break\n",
    "    "
   ]
  },
  {
   "cell_type": "code",
   "execution_count": 102,
   "metadata": {},
   "outputs": [
    {
     "name": "stdout",
     "output_type": "stream",
     "text": [
      "['Joe', 'David', 'Mark', 'Tom', 'Chris', 'Robert']\n"
     ]
    }
   ],
   "source": [
    "#Q21\n",
    "names = ('Joe', 'David', 'Mark', 'Tom', 'Chris', 'Robert')\n",
    "ls = list(names)\n",
    "print(ls)"
   ]
  },
  {
   "cell_type": "code",
   "execution_count": 107,
   "metadata": {},
   "outputs": [
    {
     "name": "stdout",
     "output_type": "stream",
     "text": [
      "thisaye isaye someaye textaye "
     ]
    }
   ],
   "source": [
    "#Q22\n",
    "text = 'this is some text'\n",
    "print('this', end = 'aye ')\n",
    "print('is', end = 'aye ')\n",
    "print('some', end = 'aye ')\n",
    "print('text', end = 'aye ')"
   ]
  },
  {
   "cell_type": "code",
   "execution_count": 113,
   "metadata": {},
   "outputs": [
    {
     "name": "stdout",
     "output_type": "stream",
     "text": [
      "thisaye isaye someaye textaye "
     ]
    }
   ],
   "source": [
    "for v in text.split():\n",
    "    print(v, end= 'aye ')"
   ]
  },
  {
   "cell_type": "code",
   "execution_count": 140,
   "metadata": {},
   "outputs": [
    {
     "name": "stdout",
     "output_type": "stream",
     "text": [
      "your word is terrifying\n"
     ]
    }
   ],
   "source": [
    "#Q23\n",
    "str = input('Enter a word containing fyi')\n",
    "if 'fyi' in str:\n",
    "    print('your word is',str)\n",
    "else:\n",
    "    print('not found')\n",
    "\n"
   ]
  },
  {
   "cell_type": "code",
   "execution_count": 135,
   "metadata": {},
   "outputs": [
    {
     "name": "stdout",
     "output_type": "stream",
     "text": [
      "python\n"
     ]
    }
   ],
   "source": [
    "#Q24\n",
    "ext = '%p34@y!*-*!t68h#&on404'\n",
    "b=''\n",
    "for i in ext:\n",
    "    if i.isalpha():\n",
    "        b+=i\n",
    "print(b)\n"
   ]
  },
  {
   "cell_type": "code",
   "execution_count": 120,
   "metadata": {},
   "outputs": [
    {
     "name": "stdout",
     "output_type": "stream",
     "text": [
      "4.636363636363637\n"
     ]
    }
   ],
   "source": [
    "#Q25\n",
    "para = 'this is a paragraph which is written just for the purpose of providing content to let the average word length be calculated'\n",
    "new_para = para.split()\n",
    "para=para.replace(\" \",\"\")\n",
    "print(len(para)/len(new_para))"
   ]
  },
  {
   "cell_type": "code",
   "execution_count": null,
   "metadata": {},
   "outputs": [],
   "source": []
  },
  {
   "cell_type": "code",
   "execution_count": null,
   "metadata": {},
   "outputs": [],
   "source": []
  }
 ],
 "metadata": {
  "kernelspec": {
   "display_name": "Python 3.9.12 ('base')",
   "language": "python",
   "name": "python3"
  },
  "language_info": {
   "codemirror_mode": {
    "name": "ipython",
    "version": 3
   },
   "file_extension": ".py",
   "mimetype": "text/x-python",
   "name": "python",
   "nbconvert_exporter": "python",
   "pygments_lexer": "ipython3",
   "version": "3.9.12"
  },
  "orig_nbformat": 4,
  "vscode": {
   "interpreter": {
    "hash": "d7e1ad9c6db060d3e4ace4e7b8fbee994ebeaf9f4a111c23bc69d03eecd31c87"
   }
  }
 },
 "nbformat": 4,
 "nbformat_minor": 2
}
