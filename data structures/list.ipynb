{
 "cells": [
  {
   "cell_type": "code",
   "execution_count": 1,
   "metadata": {},
   "outputs": [],
   "source": [
    "#List of strings\n",
    "List1=[\"Nikhilesh\", 'Aman', 'Rahul','Devansh','Rishabh']"
   ]
  },
  {
   "cell_type": "code",
   "execution_count": 2,
   "metadata": {},
   "outputs": [],
   "source": [
    "#list of numbers\n",
    "List2=[1,2,3,4,5,6,7,8,100]"
   ]
  },
  {
   "cell_type": "code",
   "execution_count": 3,
   "metadata": {},
   "outputs": [],
   "source": [
    "#mixed data list\n",
    "list3=['Ravi',90,102,93,29,44,'B',False,5.786]"
   ]
  },
  {
   "cell_type": "code",
   "execution_count": 4,
   "metadata": {},
   "outputs": [],
   "source": [
    "#nested list\n",
    "list4=[[1,2,3],[3,4,5,7],[2,1]]"
   ]
  },
  {
   "cell_type": "code",
   "execution_count": 5,
   "metadata": {},
   "outputs": [
    {
     "name": "stdout",
     "output_type": "stream",
     "text": [
      "['Ravi', 90, 102, 93, 29, 44, 'B', False, 5.786]\n"
     ]
    }
   ],
   "source": [
    "print(list3)"
   ]
  },
  {
   "cell_type": "code",
   "execution_count": 6,
   "metadata": {},
   "outputs": [
    {
     "name": "stdout",
     "output_type": "stream",
     "text": [
      "list1= [2, 4, 6, 'A', 10, 'B', 16, 'C', 20]\n"
     ]
    }
   ],
   "source": [
    "#Accesing list in python\n",
    "list1=[2,4,6,'A',10,'B',16,'C',20]\n",
    "print('list1=',list1)"
   ]
  },
  {
   "cell_type": "code",
   "execution_count": 7,
   "metadata": {},
   "outputs": [
    {
     "name": "stdout",
     "output_type": "stream",
     "text": [
      "list1[0]= 2\n"
     ]
    }
   ],
   "source": [
    "#first item\n",
    "print('list1[0]=',list1[0])\n"
   ]
  },
  {
   "cell_type": "code",
   "execution_count": 8,
   "metadata": {},
   "outputs": [
    {
     "name": "stdout",
     "output_type": "stream",
     "text": [
      "list1[2]= 6\n"
     ]
    }
   ],
   "source": [
    "#third item\n",
    "print('list1[2]=',list1[2])"
   ]
  },
  {
   "cell_type": "code",
   "execution_count": 9,
   "metadata": {},
   "outputs": [
    {
     "name": "stdout",
     "output_type": "stream",
     "text": [
      "list1[-1]= 20\n"
     ]
    }
   ],
   "source": [
    "#last item\n",
    "print('list1[-1]=',list1[-1])"
   ]
  },
  {
   "cell_type": "code",
   "execution_count": 10,
   "metadata": {},
   "outputs": [
    {
     "name": "stdout",
     "output_type": "stream",
     "text": [
      "list1[-3]= 16\n"
     ]
    }
   ],
   "source": [
    "#last third item\n",
    "print('list1[-3]=',list1[-3])"
   ]
  },
  {
   "cell_type": "code",
   "execution_count": 11,
   "metadata": {},
   "outputs": [
    {
     "name": "stdout",
     "output_type": "stream",
     "text": [
      "[40, 50, 60, 70, 80]\n"
     ]
    }
   ],
   "source": [
    "#Getting a list slice\n",
    "l=[10,20,30,40,50,60,70,80,90,100]\n",
    "slice1=l[3:-2]\n",
    "print(slice1)"
   ]
  },
  {
   "cell_type": "code",
   "execution_count": 12,
   "metadata": {},
   "outputs": [],
   "source": [
    "books=[\n",
    "    'Legion',\n",
    "    'Legion: Skin Deep',\n",
    "    'Steelheart',\n",
    "    'Calamity',\n",
    "    'The Final Empire',\n",
    "    'The Well Of Ascension',\n",
    "    'Way Of The Kings',\n",
    "    'Oathbringer',\n",
    "    'Wards Of Radiance',\n",
    "    'Warbreaker',\n",
    "]"
   ]
  },
  {
   "cell_type": "code",
   "execution_count": 13,
   "metadata": {},
   "outputs": [
    {
     "data": {
      "text/plain": [
       "['Legion', 'Legion: Skin Deep', 'Steelheart']"
      ]
     },
     "execution_count": 13,
     "metadata": {},
     "output_type": "execute_result"
    }
   ],
   "source": [
    "books[:3]  #first 3 books"
   ]
  },
  {
   "cell_type": "code",
   "execution_count": 14,
   "metadata": {},
   "outputs": [
    {
     "data": {
      "text/plain": [
       "['Oathbringer', 'Wards Of Radiance', 'Warbreaker']"
      ]
     },
     "execution_count": 14,
     "metadata": {},
     "output_type": "execute_result"
    }
   ],
   "source": [
    "books[-3:]   #last three books"
   ]
  },
  {
   "cell_type": "code",
   "execution_count": 15,
   "metadata": {},
   "outputs": [
    {
     "data": {
      "text/plain": [
       "['Calamity', 'The Final Empire', 'The Well Of Ascension', 'Way Of The Kings']"
      ]
     },
     "execution_count": 15,
     "metadata": {},
     "output_type": "execute_result"
    }
   ],
   "source": [
    "books[3:-3]   #"
   ]
  },
  {
   "cell_type": "code",
   "execution_count": 16,
   "metadata": {},
   "outputs": [
    {
     "data": {
      "text/plain": [
       "['apple', 'Banana', 'Cherry', 'Guava']"
      ]
     },
     "execution_count": 16,
     "metadata": {},
     "output_type": "execute_result"
    }
   ],
   "source": [
    "# Append function\n",
    "fruits=[]\n",
    "fruits.append('apple')\n",
    "fruits.append('Banana')\n",
    "fruits.append('Cherry')\n",
    "fruits.append('Guava')\n",
    "fruits"
   ]
  },
  {
   "cell_type": "code",
   "execution_count": 17,
   "metadata": {},
   "outputs": [
    {
     "name": "stdout",
     "output_type": "stream",
     "text": [
      "['Legion', 'Legion: Skin Deep', 'Steelheart', 'Calamity', 'The Final Empire', 'The Well Of Ascension', 'Way Of The Kings', 'Oathbringer', 'Wards Of Radiance', 'Warbreaker', 'Firefight', 'Rythm of War']\n"
     ]
    }
   ],
   "source": [
    "books.append('Firefight')\n",
    "books.append('Rythm of War')\n",
    "print(books)"
   ]
  },
  {
   "cell_type": "code",
   "execution_count": 18,
   "metadata": {},
   "outputs": [],
   "source": [
    "bookname=input('enter a book name: ')\n",
    "books.append(bookname)"
   ]
  },
  {
   "cell_type": "code",
   "execution_count": 19,
   "metadata": {},
   "outputs": [
    {
     "name": "stdout",
     "output_type": "stream",
     "text": [
      "['Legion', 'Legion: Skin Deep', 'Steelheart', 'Calamity', 'The Final Empire', 'The Well Of Ascension', 'Way Of The Kings', 'Oathbringer', 'Wards Of Radiance', 'Warbreaker', 'Firefight', 'Rythm of War', 'Legion: Skin Deep']\n"
     ]
    }
   ],
   "source": [
    "print(books)"
   ]
  },
  {
   "cell_type": "code",
   "execution_count": 20,
   "metadata": {},
   "outputs": [
    {
     "name": "stdout",
     "output_type": "stream",
     "text": [
      "['Apple', 'orange', 'Banana', 'Cherry']\n"
     ]
    }
   ],
   "source": [
    "#insert Function\n",
    "fruits=['Apple','Banana','Cherry']\n",
    "\n",
    "fruits.insert(1,'orange')\n",
    "print(fruits)"
   ]
  },
  {
   "cell_type": "code",
   "execution_count": 21,
   "metadata": {},
   "outputs": [
    {
     "name": "stdout",
     "output_type": "stream",
     "text": [
      "['Legion', 'Legion: Skin Deep', 'Steelheart', 'Calamity', 'The Final Empire', 'The Well Of Ascension', 'The Hero Of Ages', 'Way Of The Kings', 'Oathbringer', 'Wards Of Radiance', 'Warbreaker', 'Firefight', 'Rythm of War', 'Legion: Skin Deep']\n"
     ]
    }
   ],
   "source": [
    "books.insert(6,'The Hero Of Ages')\n",
    "print(books)"
   ]
  },
  {
   "cell_type": "code",
   "execution_count": 22,
   "metadata": {},
   "outputs": [
    {
     "name": "stdout",
     "output_type": "stream",
     "text": [
      "['Legion', 'Legion: Skin Deep', 'Steelheart', 'Calamity', 'The Final Empire', 'The Well Of Ascension', 'The Hero Of Ages', 'Way Of The Kings', 'Oathbringer', 'Wards Of Radiance', 'Warbreaker', 'Firefight', 'Rythm of War', 'Legion: Skin Deep', 'Nightblood']\n"
     ]
    }
   ],
   "source": [
    "books.insert(100,'Nightblood')\n",
    "print(books)"
   ]
  },
  {
   "cell_type": "code",
   "execution_count": 23,
   "metadata": {},
   "outputs": [
    {
     "data": {
      "text/plain": [
       "['Apple', 'orange', 'Banana', 'Cherry', 'Almond', 'Cashew', 'walnut']"
      ]
     },
     "execution_count": 23,
     "metadata": {},
     "output_type": "execute_result"
    }
   ],
   "source": [
    "#Extend Function\n",
    "dry_fruits=['Almond','Cashew','walnut']\n",
    "fruits.extend(dry_fruits)\n",
    "fruits\n"
   ]
  },
  {
   "cell_type": "code",
   "execution_count": 24,
   "metadata": {},
   "outputs": [
    {
     "data": {
      "text/plain": [
       "['Apple', 'Banana', 'Cherry', 'Guava']"
      ]
     },
     "execution_count": 24,
     "metadata": {},
     "output_type": "execute_result"
    }
   ],
   "source": [
    "#sort function\n",
    "fruits=['Cherry','Guava','Banana','Apple']\n",
    "fruits.sort()\n",
    "fruits"
   ]
  },
  {
   "cell_type": "code",
   "execution_count": 25,
   "metadata": {},
   "outputs": [
    {
     "name": "stdout",
     "output_type": "stream",
     "text": [
      "['Calamity', 'Firefight', 'Legion', 'Legion: Skin Deep', 'Legion: Skin Deep', 'Nightblood', 'Oathbringer', 'Rythm of War', 'Steelheart', 'The Final Empire', 'The Hero Of Ages', 'The Well Of Ascension', 'Warbreaker', 'Wards Of Radiance', 'Way Of The Kings']\n"
     ]
    }
   ],
   "source": [
    "books.sort()\n",
    "print(books)"
   ]
  },
  {
   "cell_type": "code",
   "execution_count": 26,
   "metadata": {},
   "outputs": [
    {
     "data": {
      "text/plain": [
       "['Guava', 'Cherry', 'Banana', 'Apple']"
      ]
     },
     "execution_count": 26,
     "metadata": {},
     "output_type": "execute_result"
    }
   ],
   "source": [
    "#reverse function\n",
    "fruits=['Cherry','Guava','Banana','Apple']\n",
    "fruits.sort(reverse=True)\n",
    "fruits"
   ]
  },
  {
   "cell_type": "code",
   "execution_count": 27,
   "metadata": {},
   "outputs": [
    {
     "name": "stdout",
     "output_type": "stream",
     "text": [
      "[1, 1, 1, 1, 1, 2, 2, 2, 2, 3, 3, 3, 3, 3, 3]\n"
     ]
    }
   ],
   "source": [
    "x=[1,2,2,3,3,2,3,3,3,3,1,1,1,1,2]\n",
    "x.sort()\n",
    "print(x)"
   ]
  },
  {
   "cell_type": "code",
   "execution_count": 28,
   "metadata": {},
   "outputs": [
    {
     "name": "stdout",
     "output_type": "stream",
     "text": [
      "[1, 1, 1, 1, 2, 2, 2, 2, 3, 3, 3, 3, 3, 3]\n",
      "[1, 1, 1, 1, 2, 2, 2, 2, 3, 3, 3, 3, 3, 3]\n"
     ]
    }
   ],
   "source": [
    "# Remove Function\n",
    "if 1 in x:\n",
    "    x.remove(1)\n",
    "print(x)\n",
    "if 4 in x:\n",
    "    x.remove(4)\n",
    "print(x)"
   ]
  },
  {
   "cell_type": "code",
   "execution_count": 29,
   "metadata": {},
   "outputs": [],
   "source": [
    "x.remove(3) if 3 in x else print('Not fount')"
   ]
  },
  {
   "cell_type": "code",
   "execution_count": 30,
   "metadata": {},
   "outputs": [
    {
     "name": "stdout",
     "output_type": "stream",
     "text": [
      "[1, 1, 1, 1, 2, 2, 2, 2, 3, 3, 3, 3, 3]\n"
     ]
    }
   ],
   "source": [
    "print(x)"
   ]
  },
  {
   "cell_type": "code",
   "execution_count": 31,
   "metadata": {},
   "outputs": [
    {
     "name": "stdout",
     "output_type": "stream",
     "text": [
      "['Way Of The Kings', 'Wards Of Radiance', 'Warbreaker', 'The Well Of Ascension', 'The Hero Of Ages', 'The Final Empire', 'Steelheart', 'Rythm of War', 'Oathbringer', 'Nightblood', 'Legion: Skin Deep', 'Legion: Skin Deep', 'Legion', 'Firefight', 'Calamity']\n"
     ]
    }
   ],
   "source": [
    "books.reverse()  #reverse the list *result revese always\n",
    "print(books)"
   ]
  },
  {
   "cell_type": "code",
   "execution_count": 32,
   "metadata": {},
   "outputs": [
    {
     "data": {
      "text/plain": [
       "['Calamity',\n",
       " 'Firefight',\n",
       " 'Legion',\n",
       " 'Legion: Skin Deep',\n",
       " 'Legion: Skin Deep',\n",
       " 'Nightblood',\n",
       " 'Oathbringer',\n",
       " 'Rythm of War',\n",
       " 'Steelheart',\n",
       " 'The Final Empire',\n",
       " 'The Hero Of Ages',\n",
       " 'The Well Of Ascension',\n",
       " 'Warbreaker',\n",
       " 'Wards Of Radiance',\n",
       " 'Way Of The Kings']"
      ]
     },
     "execution_count": 32,
     "metadata": {},
     "output_type": "execute_result"
    }
   ],
   "source": [
    "books[::-1]   #reverse the list  *result remains same once reverse"
   ]
  },
  {
   "cell_type": "code",
   "execution_count": 33,
   "metadata": {},
   "outputs": [
    {
     "data": {
      "text/plain": [
       "5"
      ]
     },
     "execution_count": 33,
     "metadata": {},
     "output_type": "execute_result"
    }
   ],
   "source": [
    "#count function\n",
    "x=[1,2,3,4,5,6,1,1,5,6,45,1,1,2,2,2,2,2,3,4,6,78,8]\n",
    "x.count(1)"
   ]
  },
  {
   "cell_type": "code",
   "execution_count": 34,
   "metadata": {},
   "outputs": [],
   "source": [
    "#index function\n",
    "movies=[\n",
    "    'Ghostbusters: Afterlife',\n",
    "    'Spider-Man: No Way Home',\n",
    "    'Shang-Chi',\n",
    "    'The Last Duel',\n",
    "    'venom : Let There Be Carnage'\n",
    "]\n"
   ]
  },
  {
   "cell_type": "code",
   "execution_count": 35,
   "metadata": {},
   "outputs": [
    {
     "data": {
      "text/plain": [
       "15"
      ]
     },
     "execution_count": 35,
     "metadata": {},
     "output_type": "execute_result"
    }
   ],
   "source": [
    "len(books)"
   ]
  },
  {
   "cell_type": "code",
   "execution_count": 36,
   "metadata": {},
   "outputs": [
    {
     "name": "stdout",
     "output_type": "stream",
     "text": [
      "8\n"
     ]
    },
    {
     "data": {
      "text/plain": [
       "['Oathbringer',\n",
       " 'Nightblood',\n",
       " 'Legion: Skin Deep',\n",
       " 'Legion: Skin Deep',\n",
       " 'Legion',\n",
       " 'Firefight',\n",
       " 'Calamity']"
      ]
     },
     "execution_count": 36,
     "metadata": {},
     "output_type": "execute_result"
    }
   ],
   "source": [
    "oathidx = books.index('Oathbringer')\n",
    "print(oathidx)\n",
    "books[oathidx:]"
   ]
  },
  {
   "cell_type": "code",
   "execution_count": 37,
   "metadata": {},
   "outputs": [
    {
     "data": {
      "text/plain": [
       "['Oathbringer',\n",
       " 'Nightblood',\n",
       " 'Legion: Skin Deep',\n",
       " 'Legion: Skin Deep',\n",
       " 'Legion',\n",
       " 'Firefight',\n",
       " 'Calamity']"
      ]
     },
     "execution_count": 37,
     "metadata": {},
     "output_type": "execute_result"
    }
   ],
   "source": [
    "books[books.index('Oathbringer'):]"
   ]
  },
  {
   "cell_type": "code",
   "execution_count": 38,
   "metadata": {},
   "outputs": [
    {
     "name": "stdout",
     "output_type": "stream",
     "text": [
      "['Cherry', 'Guava', 'Banana', 'Apple']\n"
     ]
    }
   ],
   "source": [
    "# Copy function\n",
    "fruits=['Cherry','Guava','Banana','Apple']\n",
    "dup_fruits=fruits.copy()\n",
    "print(dup_fruits)"
   ]
  },
  {
   "cell_type": "code",
   "execution_count": 39,
   "metadata": {},
   "outputs": [
    {
     "data": {
      "text/plain": [
       "[]"
      ]
     },
     "execution_count": 39,
     "metadata": {},
     "output_type": "execute_result"
    }
   ],
   "source": [
    "# Clear Function\n",
    "fruits=['Cherry','Guava','Banana','Apple']\n",
    "fruits.clear()\n",
    "fruits"
   ]
  },
  {
   "cell_type": "code",
   "execution_count": 40,
   "metadata": {},
   "outputs": [
    {
     "name": "stdout",
     "output_type": "stream",
     "text": [
      "Banana\n"
     ]
    }
   ],
   "source": [
    "# Pop Function\n",
    "\n",
    "# By list.pop() method\n",
    "fruits=['Cherry','Guava','Banana','Apple']\n",
    "v=fruits.pop(2)\n",
    "print(v)\n"
   ]
  },
  {
   "cell_type": "code",
   "execution_count": 41,
   "metadata": {},
   "outputs": [
    {
     "name": "stdout",
     "output_type": "stream",
     "text": [
      "Banana\n"
     ]
    }
   ],
   "source": [
    "# By list.pop(idx) method-\n",
    "fruits=['Cherry','Guava','Banana','Apple']\n",
    "v= fruits.pop(2)\n",
    "print(v)"
   ]
  },
  {
   "cell_type": "code",
   "execution_count": 42,
   "metadata": {},
   "outputs": [],
   "source": [
    "# List Comprehension\n"
   ]
  },
  {
   "cell_type": "markdown",
   "metadata": {},
   "source": [
    "##### wap to create a list of 5 values given by the users"
   ]
  },
  {
   "cell_type": "code",
   "execution_count": 43,
   "metadata": {},
   "outputs": [
    {
     "name": "stdout",
     "output_type": "stream",
     "text": [
      "['', '', '', '', '']\n"
     ]
    }
   ],
   "source": [
    "ex=[]\n",
    "for i in range(5):\n",
    "    val=input(f'enter value {i+1}: ')\n",
    "    ex.append(val)\n",
    "print(ex)"
   ]
  },
  {
   "cell_type": "markdown",
   "metadata": {},
   "source": [
    "##### wap to display sum of a list"
   ]
  },
  {
   "cell_type": "code",
   "execution_count": 44,
   "metadata": {},
   "outputs": [
    {
     "name": "stdout",
     "output_type": "stream",
     "text": [
      "411\n"
     ]
    }
   ],
   "source": [
    "data = [23,54,67,78,99,90]\n",
    "total=0\n",
    "for i in data:\n",
    "    total+=i\n",
    "print(total)"
   ]
  },
  {
   "cell_type": "markdown",
   "metadata": {},
   "source": [
    "#### mean,median,max.min,std"
   ]
  },
  {
   "cell_type": "code",
   "execution_count": null,
   "metadata": {},
   "outputs": [],
   "source": []
  }
 ],
 "metadata": {
  "kernelspec": {
   "display_name": "Python 3.9.12 ('base')",
   "language": "python",
   "name": "python3"
  },
  "language_info": {
   "codemirror_mode": {
    "name": "ipython",
    "version": 3
   },
   "file_extension": ".py",
   "mimetype": "text/x-python",
   "name": "python",
   "nbconvert_exporter": "python",
   "pygments_lexer": "ipython3",
   "version": "3.9.12"
  },
  "orig_nbformat": 4,
  "vscode": {
   "interpreter": {
    "hash": "d7e1ad9c6db060d3e4ace4e7b8fbee994ebeaf9f4a111c23bc69d03eecd31c87"
   }
  }
 },
 "nbformat": 4,
 "nbformat_minor": 2
}
