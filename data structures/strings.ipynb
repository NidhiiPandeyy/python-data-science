{
 "cells": [
  {
   "cell_type": "code",
   "execution_count": 2,
   "metadata": {},
   "outputs": [
    {
     "name": "stdout",
     "output_type": "stream",
     "text": [
      "applejuice\n"
     ]
    }
   ],
   "source": [
    "#concatation\n",
    "a='apple'\n",
    "b='juice'\n",
    "ab=a+b\n",
    "print(ab)\n"
   ]
  },
  {
   "cell_type": "code",
   "execution_count": 3,
   "metadata": {},
   "outputs": [
    {
     "name": "stdout",
     "output_type": "stream",
     "text": [
      "thisisAmazing\n"
     ]
    }
   ],
   "source": [
    "w1='this'\n",
    "w2='is'\n",
    "w3='Amazing'\n",
    "msg=w1+w2+w3\n",
    "print(msg)"
   ]
  },
  {
   "cell_type": "code",
   "execution_count": 4,
   "metadata": {},
   "outputs": [
    {
     "name": "stdout",
     "output_type": "stream",
     "text": [
      "this is Amazing\n"
     ]
    }
   ],
   "source": [
    "msg=w1+' '+w2+' '+w3\n",
    "print(msg)"
   ]
  },
  {
   "cell_type": "code",
   "execution_count": 5,
   "metadata": {},
   "outputs": [
    {
     "name": "stdout",
     "output_type": "stream",
     "text": [
      "HiHiHi\n"
     ]
    }
   ],
   "source": [
    "#duplication\n",
    "word='Hi'\n",
    "print(word*3)"
   ]
  },
  {
   "cell_type": "code",
   "execution_count": 6,
   "metadata": {},
   "outputs": [
    {
     "name": "stdout",
     "output_type": "stream",
     "text": [
      "-------------------------\n"
     ]
    }
   ],
   "source": [
    "print('-'*25)"
   ]
  },
  {
   "cell_type": "code",
   "execution_count": 7,
   "metadata": {},
   "outputs": [
    {
     "name": "stdout",
     "output_type": "stream",
     "text": [
      " * \n",
      " *  * \n",
      " *  *  * \n",
      " *  *  *  * \n",
      " *  *  *  *  * \n"
     ]
    }
   ],
   "source": [
    "# Pattern Printing\n",
    "for i in range(1,6):\n",
    "    print(i*' * ')"
   ]
  },
  {
   "cell_type": "code",
   "execution_count": 8,
   "metadata": {},
   "outputs": [
    {
     "name": "stdout",
     "output_type": "stream",
     "text": [
      " *  *  *  *  *  * \n",
      " *  *  *  *  * \n",
      " *  *  *  * \n",
      " *  *  * \n",
      " *  * \n",
      " * \n"
     ]
    }
   ],
   "source": [
    "for i in range(6,0,-1):\n",
    "    print(i*' * ')\n"
   ]
  },
  {
   "cell_type": "code",
   "execution_count": 9,
   "metadata": {},
   "outputs": [],
   "source": [
    "name= \"Nidhi Pandey\"\n",
    "age=22\n",
    "items=['Apple','Banana','Cherry']"
   ]
  },
  {
   "cell_type": "markdown",
   "metadata": {},
   "source": [
    "### Formatting function"
   ]
  },
  {
   "cell_type": "code",
   "execution_count": 10,
   "metadata": {},
   "outputs": [],
   "source": [
    "msg = 'This is A msg From veRy imp person.'"
   ]
  },
  {
   "cell_type": "code",
   "execution_count": 11,
   "metadata": {},
   "outputs": [
    {
     "name": "stdout",
     "output_type": "stream",
     "text": [
      "THIS IS A MSG FROM VERY IMP PERSON.\n",
      "this is a msg from very imp person.\n",
      "This Is A Msg From Very Imp Person.\n",
      "This is a msg from very imp person.\n",
      "this is a msg from very imp person.\n",
      "tHIS IS a MSG fROM VErY IMP PERSON.\n",
      "This is A msg From veRy imp person.\n"
     ]
    }
   ],
   "source": [
    "print(msg.upper())\n",
    "print(msg.lower())\n",
    "print(msg.title())\n",
    "print(msg.capitalize())\n",
    "print(msg.casefold())\n",
    "print(msg.swapcase())\n",
    "print(msg)\n",
    "\n"
   ]
  },
  {
   "cell_type": "code",
   "execution_count": 12,
   "metadata": {},
   "outputs": [
    {
     "name": "stdout",
     "output_type": "stream",
     "text": [
      "THIS IS A MSG FROM VERY IMP PERSON.\n",
      "this is a msg from very imp person.\n"
     ]
    }
   ],
   "source": [
    "msg = msg.upper()\n",
    "print(msg)\n",
    "msg = msg.lower()\n",
    "print(msg)\n"
   ]
  },
  {
   "cell_type": "code",
   "execution_count": 13,
   "metadata": {},
   "outputs": [
    {
     "data": {
      "text/plain": [
       "35"
      ]
     },
     "execution_count": 13,
     "metadata": {},
     "output_type": "execute_result"
    }
   ],
   "source": [
    "len(msg)"
   ]
  },
  {
   "cell_type": "code",
   "execution_count": 14,
   "metadata": {},
   "outputs": [
    {
     "name": "stdout",
     "output_type": "stream",
     "text": [
      "this is a msg from very imp person.\n"
     ]
    }
   ],
   "source": [
    "print(msg)"
   ]
  },
  {
   "cell_type": "code",
   "execution_count": 15,
   "metadata": {},
   "outputs": [
    {
     "name": "stdout",
     "output_type": "stream",
     "text": [
      "this is a msg from very imp person.                                             \n"
     ]
    }
   ],
   "source": [
    "print(msg.ljust(80))"
   ]
  },
  {
   "cell_type": "code",
   "execution_count": 16,
   "metadata": {},
   "outputs": [
    {
     "name": "stdout",
     "output_type": "stream",
     "text": [
      "                                             this is a msg from very imp person.\n"
     ]
    }
   ],
   "source": [
    "print(msg.rjust(80))"
   ]
  },
  {
   "cell_type": "code",
   "execution_count": 17,
   "metadata": {},
   "outputs": [
    {
     "name": "stdout",
     "output_type": "stream",
     "text": [
      "                      this is a msg from very imp person.                       \n"
     ]
    }
   ],
   "source": [
    "print(msg.center(80))"
   ]
  },
  {
   "cell_type": "code",
   "execution_count": 18,
   "metadata": {},
   "outputs": [],
   "source": [
    "long_msg ='''  \n",
    " VS Code is my most used and favorite editor.\n",
    " I love being able to customize the editor -\n",
    " changing the layout, the icons,\n",
    " fonts and color scheme is so easy! \n",
    "'''\n"
   ]
  },
  {
   "cell_type": "code",
   "execution_count": 19,
   "metadata": {},
   "outputs": [
    {
     "name": "stdout",
     "output_type": "stream",
     "text": [
      "  \n",
      " VS Code is my most used and favorite editor.\n",
      " I love being able to customize the editor -\n",
      " changing the layout, the icons,\n",
      " fonts and color scheme is so easy! \n",
      "\n"
     ]
    }
   ],
   "source": [
    "print(long_msg)"
   ]
  },
  {
   "cell_type": "code",
   "execution_count": 20,
   "metadata": {},
   "outputs": [
    {
     "data": {
      "text/plain": [
       "['this', 'is', 'a', 'msg', 'from', 'very', 'imp', 'person.']"
      ]
     },
     "execution_count": 20,
     "metadata": {},
     "output_type": "execute_result"
    }
   ],
   "source": [
    "msg.split()"
   ]
  },
  {
   "cell_type": "code",
   "execution_count": 21,
   "metadata": {},
   "outputs": [
    {
     "data": {
      "text/plain": [
       "['  ',\n",
       " ' VS Code is my most used and favorite editor.',\n",
       " ' I love being able to customize the editor -',\n",
       " ' changing the layout, the icons,',\n",
       " ' fonts and color scheme is so easy! ',\n",
       " '']"
      ]
     },
     "execution_count": 21,
     "metadata": {},
     "output_type": "execute_result"
    }
   ],
   "source": [
    "long_msg.split('\\n')"
   ]
  },
  {
   "cell_type": "code",
   "execution_count": 22,
   "metadata": {},
   "outputs": [
    {
     "name": "stdout",
     "output_type": "stream",
     "text": [
      "                                                                                                                                  \n",
      "                                           VS Code is my most used and favorite editor.                                           \n",
      "                                            I love being able to customize the editor -                                           \n",
      "                                                  changing the layout, the icons,                                                 \n",
      "                                                fonts and color scheme is so easy!                                                \n",
      "                                                                                                                                  \n"
     ]
    }
   ],
   "source": [
    "for line in long_msg.split('\\n'):\n",
    "    print(line.center(130))"
   ]
  },
  {
   "cell_type": "code",
   "execution_count": 23,
   "metadata": {},
   "outputs": [
    {
     "data": {
      "text/plain": [
       "['this', 'is', 'a', 'msg', 'from', 'very', 'imp person.']"
      ]
     },
     "execution_count": 23,
     "metadata": {},
     "output_type": "execute_result"
    }
   ],
   "source": [
    "msg.split(maxsplit=6)"
   ]
  },
  {
   "cell_type": "code",
   "execution_count": 24,
   "metadata": {},
   "outputs": [
    {
     "data": {
      "text/plain": [
       "['this is a msg from', 'very', 'imp', 'person.']"
      ]
     },
     "execution_count": 24,
     "metadata": {},
     "output_type": "execute_result"
    }
   ],
   "source": [
    "msg.rsplit(maxsplit=3)"
   ]
  },
  {
   "cell_type": "code",
   "execution_count": 1,
   "metadata": {},
   "outputs": [
    {
     "name": "stdout",
     "output_type": "stream",
     "text": [
      "12 Nidhi Pandey\n",
      "12 Nidhi Pandey\n"
     ]
    }
   ],
   "source": [
    "name=input('What is your name')\n",
    "print(len(name),name)\n",
    "name=name.strip()\n",
    "print(len(name),name)\n"
   ]
  },
  {
   "cell_type": "code",
   "execution_count": 43,
   "metadata": {},
   "outputs": [
    {
     "name": "stdout",
     "output_type": "stream",
     "text": [
      "['journey', 'before', 'Destination']\n",
      "journey before Destination\n",
      "journey_before_Destination\n",
      "journey, before, Destination\n",
      "journey🤗💖before🤗💖Destination\n",
      "journey~~~~before~~~~Destination\n"
     ]
    }
   ],
   "source": [
    "words = ['journey', 'before', 'Destination']\n",
    "quote = ' '.join(words)\n",
    "quote1 = '_'.join(words)\n",
    "quote2 = ', '.join(words)\n",
    "quote3 = '🤗💖'.join(words)\n",
    "quote4 = '~~~~'.join(words)\n",
    "print(words)\n",
    "print(quote)\n",
    "print(quote1)\n",
    "print(quote2)\n",
    "print(quote3)\n",
    "print(quote4)\n"
   ]
  },
  {
   "cell_type": "code",
   "execution_count": 27,
   "metadata": {},
   "outputs": [
    {
     "data": {
      "text/plain": [
       "'LA'"
      ]
     },
     "execution_count": 27,
     "metadata": {},
     "output_type": "execute_result"
    }
   ],
   "source": [
    "data='0000000000000LA0000000'\n",
    "data.strip('0')"
   ]
  },
  {
   "cell_type": "code",
   "execution_count": 28,
   "metadata": {},
   "outputs": [
    {
     "data": {
      "text/plain": [
       "'this is ---------- not ------ good '"
      ]
     },
     "execution_count": 28,
     "metadata": {},
     "output_type": "execute_result"
    }
   ],
   "source": [
    "data='------------this is ---------- not ------ good --------'\n",
    "data.strip('-')"
   ]
  },
  {
   "cell_type": "code",
   "execution_count": 29,
   "metadata": {},
   "outputs": [
    {
     "name": "stdout",
     "output_type": "stream",
     "text": [
      "this is ---------- not ------ good \n",
      "this is ---------- not ------ good --------\n",
      "------------this is ---------- not ------ good \n"
     ]
    }
   ],
   "source": [
    "print(data.strip('-'))\n",
    "print(data.lstrip('-'))\n",
    "print(data.rstrip('-'))"
   ]
  },
  {
   "cell_type": "code",
   "execution_count": 30,
   "metadata": {},
   "outputs": [
    {
     "name": "stdout",
     "output_type": "stream",
     "text": [
      "VS Code is my most used and favorite editor.\n",
      " I love being able to customize the editor -\n",
      " changing the layout, the icons,\n",
      " fonts and color scheme is so easy!\n",
      "updated-------------------->\n",
      "VS Code os my most used and favorote edotor.\n",
      " I love beong able to customoze the edotor -\n",
      " changong the layout, the ocons,\n",
      " fonts and color scheme os so easy!\n"
     ]
    }
   ],
   "source": [
    "print(long_msg)\n",
    "print('updated-------------------->')\n",
    "print(long_msg.replace('i','o'))"
   ]
  },
  {
   "cell_type": "code",
   "execution_count": 31,
   "metadata": {},
   "outputs": [
    {
     "name": "stdout",
     "output_type": "stream",
     "text": [
      "this is  not  good \n"
     ]
    }
   ],
   "source": [
    "data_clean = data.replace('-','')\n",
    "print(data_clean)"
   ]
  },
  {
   "cell_type": "code",
   "execution_count": 32,
   "metadata": {},
   "outputs": [
    {
     "name": "stdout",
     "output_type": "stream",
     "text": [
      "7\n"
     ]
    }
   ],
   "source": [
    "print(long_msg.count(\"a\"))"
   ]
  },
  {
   "cell_type": "code",
   "execution_count": 33,
   "metadata": {},
   "outputs": [
    {
     "name": "stdout",
     "output_type": "stream",
     "text": [
      "0\n"
     ]
    }
   ],
   "source": [
    "print(long_msg.count(\"this\"))"
   ]
  },
  {
   "cell_type": "code",
   "execution_count": 34,
   "metadata": {},
   "outputs": [
    {
     "name": "stdout",
     "output_type": "stream",
     "text": [
      "0\n"
     ]
    }
   ],
   "source": [
    "print(long_msg.count('visual'))"
   ]
  },
  {
   "cell_type": "code",
   "execution_count": 37,
   "metadata": {},
   "outputs": [
    {
     "data": {
      "text/plain": [
       "-1"
      ]
     },
     "execution_count": 37,
     "metadata": {},
     "output_type": "execute_result"
    }
   ],
   "source": [
    "long_msg.find(\"this\")\n",
    "#long_msg.index(\"this\")"
   ]
  },
  {
   "cell_type": "code",
   "execution_count": null,
   "metadata": {},
   "outputs": [
    {
     "data": {
      "text/plain": [
       "-1"
      ]
     },
     "execution_count": 41,
     "metadata": {},
     "output_type": "execute_result"
    }
   ],
   "source": [
    "long_msg.find(\"visual\")"
   ]
  },
  {
   "cell_type": "code",
   "execution_count": null,
   "metadata": {},
   "outputs": [
    {
     "data": {
      "text/plain": [
       "8"
      ]
     },
     "execution_count": 42,
     "metadata": {},
     "output_type": "execute_result"
    }
   ],
   "source": [
    "long_msg.find(\"is\")"
   ]
  },
  {
   "cell_type": "code",
   "execution_count": null,
   "metadata": {},
   "outputs": [
    {
     "name": "stdout",
     "output_type": "stream",
     "text": [
      "VS Code is my most used and favorite editor.\n",
      " I love being able to customize the editor -\n",
      " changing the layout, the icons,\n",
      " fonts and color scheme is so easy!\n"
     ]
    }
   ],
   "source": [
    "print(long_msg)"
   ]
  },
  {
   "cell_type": "code",
   "execution_count": null,
   "metadata": {},
   "outputs": [
    {
     "data": {
      "text/plain": [
       "147"
      ]
     },
     "execution_count": 44,
     "metadata": {},
     "output_type": "execute_result"
    }
   ],
   "source": [
    "long_msg.rfind(\"is\") #searches the string from right"
   ]
  },
  {
   "cell_type": "markdown",
   "metadata": {},
   "source": [
    "#search all occurance of substr and display"
   ]
  },
  {
   "cell_type": "code",
   "execution_count": null,
   "metadata": {},
   "outputs": [
    {
     "name": "stdout",
     "output_type": "stream",
     "text": [
      "8\n",
      "147\n"
     ]
    }
   ],
   "source": [
    "q=\"is\"\n",
    "start=0\n",
    "while True:\n",
    "    pos=long_msg.find(q,start)\n",
    "    start=pos+1\n",
    "    if pos== -1:\n",
    "        break\n",
    "    print(pos)\n",
    "\n"
   ]
  },
  {
   "cell_type": "code",
   "execution_count": null,
   "metadata": {},
   "outputs": [
    {
     "name": "stdout",
     "output_type": "stream",
     "text": [
      "vowel a :24\n",
      "vowel a :29\n",
      "vowel a :59\n",
      "vowel a :93\n",
      "vowel a :105\n",
      "vowel a :130\n",
      "vowel a :154\n",
      "vowel e :6\n",
      "vowel e :21\n",
      "vowel e :35\n",
      "vowel e :37\n",
      "vowel e :51\n",
      "vowel e :54\n",
      "vowel e :62\n",
      "vowel e :75\n",
      "vowel e :79\n",
      "vowel e :81\n",
      "vowel e :102\n",
      "vowel e :114\n",
      "vowel e :143\n",
      "vowel e :145\n",
      "vowel e :153\n",
      "vowel i :8\n",
      "vowel i :33\n",
      "vowel i :39\n",
      "vowel i :55\n",
      "vowel i :73\n",
      "vowel i :83\n",
      "vowel i :96\n",
      "vowel i :116\n",
      "vowel i :147\n",
      "vowel o :4\n",
      "vowel o :15\n",
      "vowel o :31\n",
      "vowel o :41\n",
      "vowel o :49\n",
      "vowel o :65\n",
      "vowel o :71\n",
      "vowel o :85\n",
      "vowel o :107\n",
      "vowel o :118\n",
      "vowel o :125\n",
      "vowel o :135\n",
      "vowel o :137\n",
      "vowel o :151\n",
      "vowel u :19\n",
      "vowel u :68\n",
      "vowel u :108\n"
     ]
    }
   ],
   "source": [
    "#wap to find all indexes of all vowels (aeiou)\n",
    "\n",
    "\n",
    "for vowel in \"aeiou\":\n",
    "    start=0\n",
    "    while True:\n",
    "        pos=long_msg.find(vowel,start)\n",
    "        start=pos+1\n",
    "        if pos== -1:\n",
    "            break\n",
    "        print(f\"vowel {vowel} :{pos}\")\n",
    "\n"
   ]
  },
  {
   "cell_type": "code",
   "execution_count": null,
   "metadata": {},
   "outputs": [
    {
     "name": "stdout",
     "output_type": "stream",
     "text": [
      "nidhi\n",
      "numeric False\n",
      "alphabets True\n",
      "alphanumeric True\n",
      "only spaces False\n",
      "only uppercase False\n",
      "only lowercase True\n",
      "capitalised False\n",
      "DEcimal numbers False\n"
     ]
    }
   ],
   "source": [
    "msg=input(\"enter anything\")\n",
    "print(msg)\n",
    "print(\"numeric\",msg.isnumeric())\n",
    "print(\"alphabets\",msg.isalpha())\n",
    "print(\"alphanumeric\",msg.isalnum())\n",
    "print(\"only spaces\",msg.isspace())\n",
    "print(\"only uppercase\",msg.isupper())\n",
    "print('only lowercase',msg.islower())\n",
    "print('capitalised',msg.istitle())\n",
    "print(\"Decimal numbers\",msg.isdecimal())"
   ]
  },
  {
   "cell_type": "code",
   "execution_count": null,
   "metadata": {},
   "outputs": [
    {
     "name": "stdout",
     "output_type": "stream",
     "text": [
      "7\n"
     ]
    }
   ],
   "source": [
    "#count the number of vowels in a string\n",
    "#remove all the vowels in a string\n",
    "#wap to get first n word from a string. where n is a number given by user\n",
    "print(long_msg.count(\"a\"))\n"
   ]
  },
  {
   "cell_type": "code",
   "execution_count": null,
   "metadata": {},
   "outputs": [
    {
     "name": "stdout",
     "output_type": "stream",
     "text": [
      "vowel a :7\n",
      "vowel e :15\n",
      "vowel i :9\n",
      "vowel o :14\n",
      "vowel u :3\n"
     ]
    }
   ],
   "source": [
    "for vowel in \"aeiou\":\n",
    "    start=0\n",
    "    pos=long_msg.count(vowel,start)\n",
    "    print(f\"vowel {vowel} :{pos}\")\n",
    "\n"
   ]
  },
  {
   "cell_type": "code",
   "execution_count": null,
   "metadata": {},
   "outputs": [
    {
     "name": "stdout",
     "output_type": "stream",
     "text": [
      "a : 7\n",
      "e : 15\n",
      "i : 9\n",
      "o : 14\n",
      "u : 3\n"
     ]
    }
   ],
   "source": [
    "vowels = \"aeiou\"\n",
    "for v in vowels:\n",
    "    c=long_msg.count(v)\n",
    "    print(f'{v} : {c}')\n"
   ]
  },
  {
   "cell_type": "code",
   "execution_count": null,
   "metadata": {},
   "outputs": [
    {
     "name": "stdout",
     "output_type": "stream",
     "text": [
      "VS Cd s my mst sd nd fvrt dtr.\n",
      "  lv bng bl t cstmz th dtr -\n",
      " chngng th lyt, th cns,\n",
      " fnts nd clr schm s s sy!\n"
     ]
    }
   ],
   "source": [
    "msg= long_msg #copy the string\n",
    "vowels = \"aeiouAEIOU\"\n",
    "for v in vowels:\n",
    "    msg = msg.replace(v,'')\n",
    "print(msg)"
   ]
  },
  {
   "cell_type": "code",
   "execution_count": null,
   "metadata": {},
   "outputs": [],
   "source": []
  },
  {
   "cell_type": "code",
   "execution_count": null,
   "metadata": {},
   "outputs": [
    {
     "name": "stdout",
     "output_type": "stream",
     "text": [
      "['VS', 'Code', 'is', 'my', 'most', 'used', 'and', 'favorite', 'editor.', 'I', 'love', 'being', 'able', 'to', 'customize', 'the', 'editor', '-', 'changing', 'the', 'layout,', 'the', 'icons,', 'fonts', 'and', 'color', 'scheme', 'is', 'so', 'easy!']\n"
     ]
    }
   ],
   "source": [
    "#n word slice\n",
    "word_count =int(input(\"how many words?\"))\n",
    "words= long_msg.split()[:word_count]\n",
    "print(words)"
   ]
  },
  {
   "cell_type": "code",
   "execution_count": null,
   "metadata": {},
   "outputs": [
    {
     "name": "stdout",
     "output_type": "stream",
     "text": [
      "V  :2\n",
      "S  :2\n",
      "   :30\n",
      "C  :2\n",
      "o  :15\n",
      "d  :7\n",
      "e  :16\n",
      "   :30\n",
      "i  :10\n",
      "s  :11\n",
      "   :30\n",
      "m  :5\n",
      "y  :4\n",
      "   :30\n",
      "m  :5\n",
      "o  :15\n",
      "s  :11\n",
      "t  :12\n",
      "   :30\n",
      "u  :4\n",
      "s  :11\n",
      "e  :16\n",
      "d  :7\n",
      "   :30\n",
      "a  :8\n",
      "n  :8\n",
      "d  :7\n",
      "   :30\n",
      "f  :3\n",
      "a  :8\n",
      "v  :3\n",
      "o  :15\n",
      "r  :5\n",
      "i  :10\n",
      "t  :12\n",
      "e  :16\n",
      "   :30\n",
      "e  :16\n",
      "d  :7\n",
      "i  :10\n",
      "t  :12\n",
      "o  :15\n",
      "r  :5\n",
      ".  :2\n",
      "\n",
      "  :4\n",
      "   :30\n",
      "I  :2\n",
      "   :30\n",
      "l  :5\n",
      "o  :15\n",
      "v  :3\n",
      "e  :16\n",
      "   :30\n",
      "b  :3\n",
      "e  :16\n",
      "i  :10\n",
      "n  :8\n",
      "g  :4\n",
      "   :30\n",
      "a  :8\n",
      "b  :3\n",
      "l  :5\n",
      "e  :16\n",
      "   :30\n",
      "t  :12\n",
      "o  :15\n",
      "   :30\n",
      "c  :6\n",
      "u  :4\n",
      "s  :11\n",
      "t  :12\n",
      "o  :15\n",
      "m  :5\n",
      "i  :10\n",
      "z  :2\n",
      "e  :16\n",
      "   :30\n",
      "t  :12\n",
      "h  :6\n",
      "e  :16\n",
      "   :30\n",
      "e  :16\n",
      "d  :7\n",
      "i  :10\n",
      "t  :12\n",
      "o  :15\n",
      "r  :5\n",
      "   :30\n",
      "-  :2\n",
      "\n",
      "  :4\n",
      "   :30\n",
      "c  :6\n",
      "h  :6\n",
      "a  :8\n",
      "n  :8\n",
      "g  :4\n",
      "i  :10\n",
      "n  :8\n",
      "g  :4\n",
      "   :30\n",
      "t  :12\n",
      "h  :6\n",
      "e  :16\n",
      "   :30\n",
      "l  :5\n",
      "a  :8\n",
      "y  :4\n",
      "o  :15\n",
      "u  :4\n",
      "t  :12\n",
      ",  :3\n",
      "   :30\n",
      "t  :12\n",
      "h  :6\n",
      "e  :16\n",
      "   :30\n",
      "i  :10\n",
      "c  :6\n",
      "o  :15\n",
      "n  :8\n",
      "s  :11\n",
      ",  :3\n",
      "\n",
      "  :4\n",
      "   :30\n",
      "f  :3\n",
      "o  :15\n",
      "n  :8\n",
      "t  :12\n",
      "s  :11\n",
      "   :30\n",
      "a  :8\n",
      "n  :8\n",
      "d  :7\n",
      "   :30\n",
      "c  :6\n",
      "o  :15\n",
      "l  :5\n",
      "o  :15\n",
      "r  :5\n",
      "   :30\n",
      "s  :11\n",
      "c  :6\n",
      "h  :6\n",
      "e  :16\n",
      "m  :5\n",
      "e  :16\n",
      "   :30\n",
      "i  :10\n",
      "s  :11\n",
      "   :30\n",
      "s  :11\n",
      "o  :15\n",
      "   :30\n",
      "e  :16\n",
      "a  :8\n",
      "s  :11\n",
      "y  :4\n",
      "!  :2\n"
     ]
    }
   ],
   "source": [
    "#display the size of each word in the string & find the largest word\n",
    "for word in long_msg:\n",
    "    c=long_msg.count(word)\n",
    "    if c == \" \":\n",
    "        break\n",
    "    c+=1\n",
    "    print(f\"{word}  :{c}\")"
   ]
  },
  {
   "cell_type": "code",
   "execution_count": 44,
   "metadata": {},
   "outputs": [
    {
     "name": "stdout",
     "output_type": "stream",
     "text": [
      "VS 2\n",
      "Code 4\n",
      "is 2\n",
      "my 2\n",
      "most 4\n",
      "used 4\n",
      "and 3\n",
      "favorite 8\n",
      "editor. 7\n",
      "I 1\n",
      "love 4\n",
      "being 5\n",
      "able 4\n",
      "to 2\n",
      "customize 9\n",
      "the 3\n",
      "editor 6\n",
      "- 1\n",
      "changing 8\n",
      "the 3\n",
      "layout, 7\n",
      "the 3\n",
      "icons, 6\n",
      "fonts 5\n",
      "and 3\n",
      "color 5\n",
      "scheme 6\n",
      "is 2\n",
      "so 2\n",
      "easy! 5\n",
      "biggest word is customize with 9 characters\n"
     ]
    }
   ],
   "source": [
    "m=0\n",
    "n=0\n",
    "for word in long_msg.split():\n",
    "    print(word, len(word))\n",
    "    if len(word) > m:\n",
    "        m=len(word)\n",
    "        w=word\n",
    "print(f'biggest word is {w} with {m} characters')"
   ]
  },
  {
   "cell_type": "code",
   "execution_count": 45,
   "metadata": {},
   "outputs": [
    {
     "name": "stdout",
     "output_type": "stream",
     "text": [
      "a - 2\n",
      "b - 3\n",
      "c - 0\n",
      "d - 3\n",
      "e - 13\n",
      "f - 4\n",
      "g - 0\n",
      "h - 2\n",
      "i - 4\n",
      "j - 1\n",
      "k - 0\n",
      "l - 1\n",
      "m - 0\n",
      "n - 3\n",
      "o - 6\n",
      "p - 2\n",
      "q - 0\n",
      "r - 5\n",
      "s - 2\n",
      "t - 3\n",
      "u - 1\n",
      "v - 0\n",
      "w - 0\n",
      "x - 0\n",
      "y - 1\n",
      "z - 0\n"
     ]
    }
   ],
   "source": [
    "from string import ascii_lowercase\n",
    "\n",
    "msg = 'life before death, hope before despire, journey before destination'\n",
    "for char in ascii_lowercase:\n",
    "    print(f'{char} - {msg.count(char)}')"
   ]
  },
  {
   "cell_type": "code",
   "execution_count": 47,
   "metadata": {},
   "outputs": [
    {
     "name": "stdout",
     "output_type": "stream",
     "text": [
      "that at 0\n",
      "that at 25\n",
      "that at 32\n",
      "that at 40\n"
     ]
    }
   ],
   "source": [
    "\n",
    "sentence = 'that is this and this is that , that is that and this is this'\n",
    "start =0\n",
    "query = 'that'\n",
    "while True:\n",
    "    idx = sentence.find(query, start)\n",
    "    if idx == -1:\n",
    "        break\n",
    "    print(f'{query} at {idx}')\n",
    "    start = idx + 1\n"
   ]
  },
  {
   "cell_type": "code",
   "execution_count": 2,
   "metadata": {},
   "outputs": [
    {
     "name": "stdout",
     "output_type": "stream",
     "text": [
      "hello world\n"
     ]
    }
   ],
   "source": [
    "from string import punctuation\n",
    "\n",
    "msg = 'he%$#^%&^ll&^*)&^o: world(*^&%$#%^&'\n",
    "for p in punctuation:\n",
    "    msg = msg.replace(p,'')\n",
    "print(msg)"
   ]
  },
  {
   "cell_type": "code",
   "execution_count": 2,
   "metadata": {},
   "outputs": [
    {
     "name": "stdout",
     "output_type": "stream",
     "text": [
      "Object `replace` not found.\n"
     ]
    }
   ],
   "source": []
  },
  {
   "cell_type": "code",
   "execution_count": null,
   "metadata": {},
   "outputs": [],
   "source": []
  }
 ],
 "metadata": {
  "kernelspec": {
   "display_name": "Python 3.9.12 ('base')",
   "language": "python",
   "name": "python3"
  },
  "language_info": {
   "codemirror_mode": {
    "name": "ipython",
    "version": 3
   },
   "file_extension": ".py",
   "mimetype": "text/x-python",
   "name": "python",
   "nbconvert_exporter": "python",
   "pygments_lexer": "ipython3",
   "version": "3.9.12"
  },
  "orig_nbformat": 4,
  "vscode": {
   "interpreter": {
    "hash": "d7e1ad9c6db060d3e4ace4e7b8fbee994ebeaf9f4a111c23bc69d03eecd31c87"
   }
  }
 },
 "nbformat": 4,
 "nbformat_minor": 2
}
