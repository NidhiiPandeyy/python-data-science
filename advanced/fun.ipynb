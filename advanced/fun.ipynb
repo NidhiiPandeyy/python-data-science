{
 "cells": [
  {
   "cell_type": "markdown",
   "metadata": {},
   "source": [
    "# Syntax\n",
    "* def func_nane([params]):\n",
    "\n",
    "      statement 1\n",
    "      statement 2\n",
    "      ...\n",
    "      statementn\n",
    "      [return values]\n",
    "\n",
    "\n"
   ]
  },
  {
   "cell_type": "markdown",
   "metadata": {},
   "source": []
  },
  {
   "cell_type": "code",
   "execution_count": 1,
   "metadata": {},
   "outputs": [
    {
     "name": "stdout",
     "output_type": "stream",
     "text": [
      "Hi, i m outside any function\n"
     ]
    }
   ],
   "source": [
    "def hello():\n",
    "    print('This is a function')\n",
    "    print('this is not a good function')\n",
    "    print('forget that this function exist')\n",
    "    print('Bye!')\n",
    "\n",
    "print('Hi, i m outside any function')\n"
   ]
  },
  {
   "cell_type": "code",
   "execution_count": 2,
   "metadata": {},
   "outputs": [
    {
     "name": "stdout",
     "output_type": "stream",
     "text": [
      "This is a function\n",
      "this is not a good function\n",
      "forget that this function exist\n",
      "Bye!\n"
     ]
    }
   ],
   "source": [
    "hello()"
   ]
  },
  {
   "cell_type": "code",
   "execution_count": 3,
   "metadata": {},
   "outputs": [
    {
     "name": "stdout",
     "output_type": "stream",
     "text": [
      "This is a function\n",
      "this is not a good function\n",
      "forget that this function exist\n",
      "Bye!\n",
      "This is a function\n",
      "this is not a good function\n",
      "forget that this function exist\n",
      "Bye!\n",
      "This is a function\n",
      "this is not a good function\n",
      "forget that this function exist\n",
      "Bye!\n"
     ]
    }
   ],
   "source": [
    "for i in range(3):\n",
    "    hello()"
   ]
  },
  {
   "cell_type": "code",
   "execution_count": 4,
   "metadata": {},
   "outputs": [],
   "source": [
    "def area(length, breath):\n",
    "    #pass           #bad m kr lenge yrr\n",
    "    ans=length*breath\n",
    "    return ans\n",
    "    \n",
    "    \n"
   ]
  },
  {
   "cell_type": "code",
   "execution_count": 5,
   "metadata": {},
   "outputs": [
    {
     "data": {
      "text/plain": [
       "25"
      ]
     },
     "execution_count": 5,
     "metadata": {},
     "output_type": "execute_result"
    }
   ],
   "source": [
    "area(5,5)"
   ]
  },
  {
   "cell_type": "code",
   "execution_count": 6,
   "metadata": {},
   "outputs": [
    {
     "name": "stdout",
     "output_type": "stream",
     "text": [
      "the area is 12\n"
     ]
    }
   ],
   "source": [
    "print('the area is', area(4,3))"
   ]
  },
  {
   "cell_type": "code",
   "execution_count": 7,
   "metadata": {},
   "outputs": [
    {
     "name": "stdout",
     "output_type": "stream",
     "text": [
      "16 20\n"
     ]
    }
   ],
   "source": [
    "a = area(4,4)\n",
    "b = area(4,5)\n",
    "print(a,b)\n"
   ]
  },
  {
   "cell_type": "code",
   "execution_count": 8,
   "metadata": {},
   "outputs": [
    {
     "name": "stdout",
     "output_type": "stream",
     "text": [
      "160\n"
     ]
    }
   ],
   "source": [
    "big_area = area(5,5) + area(10, 12) + 15   #function in expression\n",
    "print(big_area)"
   ]
  },
  {
   "cell_type": "code",
   "execution_count": 9,
   "metadata": {},
   "outputs": [],
   "source": [
    "def fib(start: int, size: int):\n",
    "    '''\n",
    "   ### this fibonacci function\n",
    "   - start: pass a number for the start of fibonacci series\n",
    "   - returns: list of fibonacci series\n",
    "\n",
    "   ```\n",
    "   out = fib(0)\n",
    "   print(out)\n",
    "   ```\n",
    "    '''\n",
    "    out = [start, start+1] # list with 2 init values\n",
    "    for i in range(size-2):\n",
    "        out.append(out[-1] + out[-2])\n",
    "    return out"
   ]
  },
  {
   "cell_type": "code",
   "execution_count": 10,
   "metadata": {},
   "outputs": [
    {
     "name": "stdout",
     "output_type": "stream",
     "text": [
      "[40, 41, 81, 122, 203]\n"
     ]
    }
   ],
   "source": [
    "print(fib(40,5))"
   ]
  },
  {
   "cell_type": "code",
   "execution_count": 11,
   "metadata": {},
   "outputs": [],
   "source": [
    "# create a function to calculate S.I. and Amount and return them\n",
    "def sim_int_amt(p,r,t):\n",
    "    si = (p*r*t)/100\n",
    "    a = p+si\n",
    "    return si, a\n"
   ]
  },
  {
   "cell_type": "code",
   "execution_count": 12,
   "metadata": {},
   "outputs": [
    {
     "name": "stdout",
     "output_type": "stream",
     "text": [
      "si , amount=  24.0 26.0\n"
     ]
    }
   ],
   "source": [
    "si, amt = sim_int_amt(2,30,40)\n",
    "print('si , amount= ', si, amt)"
   ]
  },
  {
   "cell_type": "code",
   "execution_count": 13,
   "metadata": {},
   "outputs": [],
   "source": [
    "import utils"
   ]
  },
  {
   "cell_type": "code",
   "execution_count": 14,
   "metadata": {},
   "outputs": [],
   "source": [
    "s = \"this is that , that is this , what is where and where is what\""
   ]
  },
  {
   "cell_type": "code",
   "execution_count": 15,
   "metadata": {},
   "outputs": [
    {
     "data": {
      "text/plain": [
       "{'where': 2, 'what': 2, 'and': 1, 'this': 2, 'that': 2, 'is': 4, ',': 2}"
      ]
     },
     "execution_count": 15,
     "metadata": {},
     "output_type": "execute_result"
    }
   ],
   "source": [
    "utils.word_counter(s)"
   ]
  },
  {
   "cell_type": "code",
   "execution_count": 16,
   "metadata": {},
   "outputs": [
    {
     "data": {
      "text/plain": [
       "{'i': 6,\n",
       " 's': 6,\n",
       " 'n': 1,\n",
       " 'd': 1,\n",
       " 'a': 5,\n",
       " ' ': 14,\n",
       " 't': 8,\n",
       " 'w': 4,\n",
       " 'h': 8,\n",
       " ',': 2,\n",
       " 'r': 2,\n",
       " 'e': 4}"
      ]
     },
     "execution_count": 16,
     "metadata": {},
     "output_type": "execute_result"
    }
   ],
   "source": [
    "utils.char_counter(s)"
   ]
  },
  {
   "cell_type": "code",
   "execution_count": null,
   "metadata": {},
   "outputs": [],
   "source": []
  }
 ],
 "metadata": {
  "kernelspec": {
   "display_name": "Python 3.9.12 ('base')",
   "language": "python",
   "name": "python3"
  },
  "language_info": {
   "codemirror_mode": {
    "name": "ipython",
    "version": 3
   },
   "file_extension": ".py",
   "mimetype": "text/x-python",
   "name": "python",
   "nbconvert_exporter": "python",
   "pygments_lexer": "ipython3",
   "version": "3.9.12"
  },
  "orig_nbformat": 4,
  "vscode": {
   "interpreter": {
    "hash": "d7e1ad9c6db060d3e4ace4e7b8fbee994ebeaf9f4a111c23bc69d03eecd31c87"
   }
  }
 },
 "nbformat": 4,
 "nbformat_minor": 2
}
